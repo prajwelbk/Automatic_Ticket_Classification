{
 "cells": [
  {
   "cell_type": "markdown",
   "metadata": {
    "id": "rhR-ZUkwJrFn"
   },
   "source": [
    "## Problem Statement\n",
    "\n",
    "You need to build a model that is able to classify customer complaints based on the products/services. By doing so, you can segregate these tickets into their relevant categories and, therefore, help in the quick resolution of the issue.\n",
    "\n",
    "You will be doing topic modelling on the <b>.json</b> data provided by the company. Since this data is not labelled, you need to apply NMF to analyse patterns and classify tickets into the following five clusters based on their products/services:\n",
    "\n",
    "* Credit card / Prepaid card\n",
    "\n",
    "* Bank account services\n",
    "\n",
    "* Theft/Dispute reporting\n",
    "\n",
    "* Mortgages/loans\n",
    "\n",
    "* Others\n",
    "\n",
    "\n",
    "With the help of topic modelling, you will be able to map each ticket onto its respective department/category. You can then use this data to train any supervised model such as logistic regression, decision tree or random forest. Using this trained model, you can classify any new customer complaint support ticket into its relevant department."
   ]
  },
  {
   "cell_type": "markdown",
   "metadata": {
    "id": "mcgXVNyaLUFS"
   },
   "source": [
    "## Pipelines that needs to be performed:\n",
    "\n",
    "You need to perform the following eight major tasks to complete the assignment:\n",
    "\n",
    "1.  Data loading\n",
    "\n",
    "2. Text preprocessing\n",
    "\n",
    "3. Exploratory data analysis (EDA)\n",
    "\n",
    "4. Feature extraction\n",
    "\n",
    "5. Topic modelling\n",
    "\n",
    "6. Model building using supervised learning\n",
    "\n",
    "7. Model training and evaluation\n",
    "\n",
    "8. Model inference"
   ]
  },
  {
   "cell_type": "markdown",
   "metadata": {
    "id": "JuLFIymAL58u"
   },
   "source": [
    "## Importing the necessary libraries"
   ]
  },
  {
   "cell_type": "code",
   "execution_count": 1,
   "metadata": {
    "id": "O-Q9pqrcJrFr"
   },
   "outputs": [],
   "source": [
    "import json\n",
    "import numpy as np\n",
    "import pandas as pd\n",
    "import re, nltk, spacy, string\n",
    "import en_core_web_sm\n",
    "nlp = en_core_web_sm.load()\n",
    "import seaborn as sns\n",
    "import matplotlib.pyplot as plt\n",
    "%matplotlib inline\n",
    "\n",
    "from plotly.offline import plot\n",
    "import plotly.graph_objects as go\n",
    "import plotly.express as px\n",
    "import wordcloud\n",
    "from sklearn.feature_extraction.text import CountVectorizer, TfidfVectorizer\n",
    "from pprint import pprint"
   ]
  },
  {
   "cell_type": "markdown",
   "metadata": {
    "id": "KtRLCsNVJrFt"
   },
   "source": [
    "## Loading the data\n",
    "\n",
    "The data is in JSON format and we need to convert it to a dataframe."
   ]
  },
  {
   "cell_type": "code",
   "execution_count": 2,
   "metadata": {
    "id": "puVzIf_iJrFt"
   },
   "outputs": [],
   "source": [
    "# Opening JSON file\n",
    "f = open('complaints-2021-05-14_08_16.json')# Write the path to your data file and load it\n",
    "\n",
    "# returns JSON object as\n",
    "# a dictionary\n",
    "pd.set_option(\"max_colwidth\", None)\n",
    "data = json.load(f)\n",
    "df=pd.json_normalize(data)"
   ]
  },
  {
   "cell_type": "markdown",
   "metadata": {
    "id": "_xYpH-sAJrFu"
   },
   "source": [
    "## Data preparation"
   ]
  },
  {
   "cell_type": "code",
   "execution_count": 3,
   "metadata": {
    "colab": {
     "base_uri": "https://localhost:8080/",
     "height": 707
    },
    "id": "Lf8ufHH5JrFu",
    "outputId": "d8c9548c-ab24-4be2-c940-b429bc1b1da9"
   },
   "outputs": [
    {
     "name": "stdout",
     "output_type": "stream",
     "text": [
      "(78313, 22)\n"
     ]
    },
    {
     "data": {
      "text/html": [
       "<div>\n",
       "<style scoped>\n",
       "    .dataframe tbody tr th:only-of-type {\n",
       "        vertical-align: middle;\n",
       "    }\n",
       "\n",
       "    .dataframe tbody tr th {\n",
       "        vertical-align: top;\n",
       "    }\n",
       "\n",
       "    .dataframe thead th {\n",
       "        text-align: right;\n",
       "    }\n",
       "</style>\n",
       "<table border=\"1\" class=\"dataframe\">\n",
       "  <thead>\n",
       "    <tr style=\"text-align: right;\">\n",
       "      <th></th>\n",
       "      <th>_index</th>\n",
       "      <th>_type</th>\n",
       "      <th>_id</th>\n",
       "      <th>_score</th>\n",
       "      <th>_source.tags</th>\n",
       "      <th>_source.zip_code</th>\n",
       "      <th>_source.complaint_id</th>\n",
       "      <th>_source.issue</th>\n",
       "      <th>_source.date_received</th>\n",
       "      <th>_source.state</th>\n",
       "      <th>...</th>\n",
       "      <th>_source.company_response</th>\n",
       "      <th>_source.company</th>\n",
       "      <th>_source.submitted_via</th>\n",
       "      <th>_source.date_sent_to_company</th>\n",
       "      <th>_source.company_public_response</th>\n",
       "      <th>_source.sub_product</th>\n",
       "      <th>_source.timely</th>\n",
       "      <th>_source.complaint_what_happened</th>\n",
       "      <th>_source.sub_issue</th>\n",
       "      <th>_source.consumer_consent_provided</th>\n",
       "    </tr>\n",
       "  </thead>\n",
       "  <tbody>\n",
       "    <tr>\n",
       "      <th>0</th>\n",
       "      <td>complaint-public-v2</td>\n",
       "      <td>complaint</td>\n",
       "      <td>3211475</td>\n",
       "      <td>0.0</td>\n",
       "      <td>None</td>\n",
       "      <td>90301</td>\n",
       "      <td>3211475</td>\n",
       "      <td>Attempts to collect debt not owed</td>\n",
       "      <td>2019-04-13T12:00:00-05:00</td>\n",
       "      <td>CA</td>\n",
       "      <td>...</td>\n",
       "      <td>Closed with explanation</td>\n",
       "      <td>JPMORGAN CHASE &amp; CO.</td>\n",
       "      <td>Web</td>\n",
       "      <td>2019-04-13T12:00:00-05:00</td>\n",
       "      <td>None</td>\n",
       "      <td>Credit card debt</td>\n",
       "      <td>Yes</td>\n",
       "      <td></td>\n",
       "      <td>Debt is not yours</td>\n",
       "      <td>Consent not provided</td>\n",
       "    </tr>\n",
       "    <tr>\n",
       "      <th>1</th>\n",
       "      <td>complaint-public-v2</td>\n",
       "      <td>complaint</td>\n",
       "      <td>3229299</td>\n",
       "      <td>0.0</td>\n",
       "      <td>Servicemember</td>\n",
       "      <td>319XX</td>\n",
       "      <td>3229299</td>\n",
       "      <td>Written notification about debt</td>\n",
       "      <td>2019-05-01T12:00:00-05:00</td>\n",
       "      <td>GA</td>\n",
       "      <td>...</td>\n",
       "      <td>Closed with explanation</td>\n",
       "      <td>JPMORGAN CHASE &amp; CO.</td>\n",
       "      <td>Web</td>\n",
       "      <td>2019-05-01T12:00:00-05:00</td>\n",
       "      <td>None</td>\n",
       "      <td>Credit card debt</td>\n",
       "      <td>Yes</td>\n",
       "      <td>Good morning my name is XXXX XXXX and I appreciate it if you could help me put a stop to Chase Bank cardmember services. \\nIn 2018 I wrote to Chase asking for debt verification and what they sent me a statement which is not acceptable. I am asking the bank to validate the debt. Instead I been receiving mail every month from them attempting to collect a debt. \\nI have a right to know this information as a consumer. \\n\\nChase account # XXXX XXXX XXXX XXXX Thanks in advance for your help.</td>\n",
       "      <td>Didn't receive enough information to verify debt</td>\n",
       "      <td>Consent provided</td>\n",
       "    </tr>\n",
       "    <tr>\n",
       "      <th>2</th>\n",
       "      <td>complaint-public-v2</td>\n",
       "      <td>complaint</td>\n",
       "      <td>3199379</td>\n",
       "      <td>0.0</td>\n",
       "      <td>None</td>\n",
       "      <td>77069</td>\n",
       "      <td>3199379</td>\n",
       "      <td>Other features, terms, or problems</td>\n",
       "      <td>2019-04-02T12:00:00-05:00</td>\n",
       "      <td>TX</td>\n",
       "      <td>...</td>\n",
       "      <td>Closed with explanation</td>\n",
       "      <td>JPMORGAN CHASE &amp; CO.</td>\n",
       "      <td>Web</td>\n",
       "      <td>2019-04-02T12:00:00-05:00</td>\n",
       "      <td>None</td>\n",
       "      <td>General-purpose credit card or charge card</td>\n",
       "      <td>Yes</td>\n",
       "      <td>I upgraded my XXXX XXXX card in XX/XX/2018 and was told by the agent who did the upgrade my anniversary date would not change. It turned the agent was giving me the wrong information in order to upgrade the account. XXXX   changed my anniversary date from XX/XX/XXXX to XX/XX/XXXX without my consent! XXXX has the recording of the agent who was misled me.</td>\n",
       "      <td>Problem with rewards from credit card</td>\n",
       "      <td>Consent provided</td>\n",
       "    </tr>\n",
       "    <tr>\n",
       "      <th>3</th>\n",
       "      <td>complaint-public-v2</td>\n",
       "      <td>complaint</td>\n",
       "      <td>2673060</td>\n",
       "      <td>0.0</td>\n",
       "      <td>None</td>\n",
       "      <td>48066</td>\n",
       "      <td>2673060</td>\n",
       "      <td>Trouble during payment process</td>\n",
       "      <td>2017-09-13T12:00:00-05:00</td>\n",
       "      <td>MI</td>\n",
       "      <td>...</td>\n",
       "      <td>Closed with explanation</td>\n",
       "      <td>JPMORGAN CHASE &amp; CO.</td>\n",
       "      <td>Web</td>\n",
       "      <td>2017-09-14T12:00:00-05:00</td>\n",
       "      <td>None</td>\n",
       "      <td>Conventional home mortgage</td>\n",
       "      <td>Yes</td>\n",
       "      <td></td>\n",
       "      <td>None</td>\n",
       "      <td>Consent not provided</td>\n",
       "    </tr>\n",
       "    <tr>\n",
       "      <th>4</th>\n",
       "      <td>complaint-public-v2</td>\n",
       "      <td>complaint</td>\n",
       "      <td>3203545</td>\n",
       "      <td>0.0</td>\n",
       "      <td>None</td>\n",
       "      <td>10473</td>\n",
       "      <td>3203545</td>\n",
       "      <td>Fees or interest</td>\n",
       "      <td>2019-04-05T12:00:00-05:00</td>\n",
       "      <td>NY</td>\n",
       "      <td>...</td>\n",
       "      <td>Closed with explanation</td>\n",
       "      <td>JPMORGAN CHASE &amp; CO.</td>\n",
       "      <td>Referral</td>\n",
       "      <td>2019-04-05T12:00:00-05:00</td>\n",
       "      <td>None</td>\n",
       "      <td>General-purpose credit card or charge card</td>\n",
       "      <td>Yes</td>\n",
       "      <td></td>\n",
       "      <td>Charged too much interest</td>\n",
       "      <td>N/A</td>\n",
       "    </tr>\n",
       "  </tbody>\n",
       "</table>\n",
       "<p>5 rows × 22 columns</p>\n",
       "</div>"
      ],
      "text/plain": [
       "                _index      _type      _id  _score   _source.tags  \\\n",
       "0  complaint-public-v2  complaint  3211475     0.0           None   \n",
       "1  complaint-public-v2  complaint  3229299     0.0  Servicemember   \n",
       "2  complaint-public-v2  complaint  3199379     0.0           None   \n",
       "3  complaint-public-v2  complaint  2673060     0.0           None   \n",
       "4  complaint-public-v2  complaint  3203545     0.0           None   \n",
       "\n",
       "  _source.zip_code _source.complaint_id                       _source.issue  \\\n",
       "0            90301              3211475   Attempts to collect debt not owed   \n",
       "1            319XX              3229299     Written notification about debt   \n",
       "2            77069              3199379  Other features, terms, or problems   \n",
       "3            48066              2673060      Trouble during payment process   \n",
       "4            10473              3203545                    Fees or interest   \n",
       "\n",
       "       _source.date_received _source.state  ... _source.company_response  \\\n",
       "0  2019-04-13T12:00:00-05:00            CA  ...  Closed with explanation   \n",
       "1  2019-05-01T12:00:00-05:00            GA  ...  Closed with explanation   \n",
       "2  2019-04-02T12:00:00-05:00            TX  ...  Closed with explanation   \n",
       "3  2017-09-13T12:00:00-05:00            MI  ...  Closed with explanation   \n",
       "4  2019-04-05T12:00:00-05:00            NY  ...  Closed with explanation   \n",
       "\n",
       "        _source.company _source.submitted_via _source.date_sent_to_company  \\\n",
       "0  JPMORGAN CHASE & CO.                   Web    2019-04-13T12:00:00-05:00   \n",
       "1  JPMORGAN CHASE & CO.                   Web    2019-05-01T12:00:00-05:00   \n",
       "2  JPMORGAN CHASE & CO.                   Web    2019-04-02T12:00:00-05:00   \n",
       "3  JPMORGAN CHASE & CO.                   Web    2017-09-14T12:00:00-05:00   \n",
       "4  JPMORGAN CHASE & CO.              Referral    2019-04-05T12:00:00-05:00   \n",
       "\n",
       "  _source.company_public_response                         _source.sub_product  \\\n",
       "0                            None                            Credit card debt   \n",
       "1                            None                            Credit card debt   \n",
       "2                            None  General-purpose credit card or charge card   \n",
       "3                            None                  Conventional home mortgage   \n",
       "4                            None  General-purpose credit card or charge card   \n",
       "\n",
       "  _source.timely  \\\n",
       "0            Yes   \n",
       "1            Yes   \n",
       "2            Yes   \n",
       "3            Yes   \n",
       "4            Yes   \n",
       "\n",
       "                                                                                                                                                                                                                                                                                                                                                                                                                                                                              _source.complaint_what_happened  \\\n",
       "0                                                                                                                                                                                                                                                                                                                                                                                                                                                                                                               \n",
       "1  Good morning my name is XXXX XXXX and I appreciate it if you could help me put a stop to Chase Bank cardmember services. \\nIn 2018 I wrote to Chase asking for debt verification and what they sent me a statement which is not acceptable. I am asking the bank to validate the debt. Instead I been receiving mail every month from them attempting to collect a debt. \\nI have a right to know this information as a consumer. \\n\\nChase account # XXXX XXXX XXXX XXXX Thanks in advance for your help.   \n",
       "2                                                                                                                                         I upgraded my XXXX XXXX card in XX/XX/2018 and was told by the agent who did the upgrade my anniversary date would not change. It turned the agent was giving me the wrong information in order to upgrade the account. XXXX   changed my anniversary date from XX/XX/XXXX to XX/XX/XXXX without my consent! XXXX has the recording of the agent who was misled me.   \n",
       "3                                                                                                                                                                                                                                                                                                                                                                                                                                                                                                               \n",
       "4                                                                                                                                                                                                                                                                                                                                                                                                                                                                                                               \n",
       "\n",
       "                                  _source.sub_issue  \\\n",
       "0                                 Debt is not yours   \n",
       "1  Didn't receive enough information to verify debt   \n",
       "2             Problem with rewards from credit card   \n",
       "3                                              None   \n",
       "4                         Charged too much interest   \n",
       "\n",
       "  _source.consumer_consent_provided  \n",
       "0              Consent not provided  \n",
       "1                  Consent provided  \n",
       "2                  Consent provided  \n",
       "3              Consent not provided  \n",
       "4                               N/A  \n",
       "\n",
       "[5 rows x 22 columns]"
      ]
     },
     "execution_count": 3,
     "metadata": {},
     "output_type": "execute_result"
    }
   ],
   "source": [
    "# Inspect the dataframe to understand the given data.\n",
    "print(df.shape)\n",
    "df.head(5)\n"
   ]
  },
  {
   "cell_type": "code",
   "execution_count": 4,
   "metadata": {
    "colab": {
     "base_uri": "https://localhost:8080/"
    },
    "id": "Dwcty-wmJrFw",
    "outputId": "ac59ae29-f045-4cac-ee91-7468a44aa54f"
   },
   "outputs": [
    {
     "data": {
      "text/plain": [
       "Index(['_index', '_type', '_id', '_score', '_source.tags', '_source.zip_code',\n",
       "       '_source.complaint_id', '_source.issue', '_source.date_received',\n",
       "       '_source.state', '_source.consumer_disputed', '_source.product',\n",
       "       '_source.company_response', '_source.company', '_source.submitted_via',\n",
       "       '_source.date_sent_to_company', '_source.company_public_response',\n",
       "       '_source.sub_product', '_source.timely',\n",
       "       '_source.complaint_what_happened', '_source.sub_issue',\n",
       "       '_source.consumer_consent_provided'],\n",
       "      dtype='object')"
      ]
     },
     "execution_count": 4,
     "metadata": {},
     "output_type": "execute_result"
    }
   ],
   "source": [
    "#print the column names\n",
    "df.columns"
   ]
  },
  {
   "cell_type": "code",
   "execution_count": 5,
   "metadata": {
    "colab": {
     "base_uri": "https://localhost:8080/"
    },
    "id": "FYCtKXD1JrFw",
    "outputId": "a5f2318e-3200-4af7-9e56-6b7a950742f4"
   },
   "outputs": [
    {
     "data": {
      "text/plain": [
       "Index(['index', 'type', 'id', 'score', 'tags', 'zip_code', 'complaint_id',\n",
       "       'issue', 'date_received', 'state', 'consumer_disputed', 'product',\n",
       "       'company_response', 'company', 'submitted_via', 'date_sent_to_company',\n",
       "       'company_public_response', 'sub_product', 'timely',\n",
       "       'complaint_what_happened', 'sub_issue', 'consumer_consent_provided'],\n",
       "      dtype='object')"
      ]
     },
     "execution_count": 5,
     "metadata": {},
     "output_type": "execute_result"
    }
   ],
   "source": [
    "#Assign new column names\n",
    "# We can replace _ and source. to make column names more readable\n",
    "col_regex = \"^_(source.)?\"\n",
    "df.columns = [re.sub(col_regex, \"\", col) for col in df.columns]\n",
    "df.columns"
   ]
  },
  {
   "cell_type": "code",
   "execution_count": 6,
   "metadata": {
    "colab": {
     "base_uri": "https://localhost:8080/"
    },
    "id": "grQUPFL5JrFx",
    "outputId": "0ab4ac91-d485-44c5-fc29-885789114cc9"
   },
   "outputs": [
    {
     "name": "stdout",
     "output_type": "stream",
     "text": [
      "There are 57241 complaints with Blank value\n"
     ]
    }
   ],
   "source": [
    "#Assign nan in place of blanks in the complaints column\n",
    "#df[complaint_what_happened] = df[complaint_what_happened].apply()\n",
    "whitespace_regex = r'^\\s*$'\n",
    "df[\"complaint_what_happened\"] = df[\"complaint_what_happened\"].apply(lambda x : np.nan if re.search(whitespace_regex, x) else x)\n",
    "print(\"There are {0} complaints with Blank value\".format(df[\"complaint_what_happened\"].isnull().sum()))"
   ]
  },
  {
   "cell_type": "code",
   "execution_count": 7,
   "metadata": {
    "colab": {
     "base_uri": "https://localhost:8080/"
    },
    "id": "Jfxd8VSmJrFy",
    "outputId": "e9265130-be7f-43ac-c64b-f56b36d39236"
   },
   "outputs": [
    {
     "data": {
      "text/plain": [
       "(21072, 22)"
      ]
     },
     "execution_count": 7,
     "metadata": {},
     "output_type": "execute_result"
    }
   ],
   "source": [
    "#Remove all rows where complaints column is nan\n",
    "df = df[~(df[\"complaint_what_happened\"].isnull())]\n",
    "df.shape"
   ]
  },
  {
   "cell_type": "markdown",
   "metadata": {
    "id": "L944HZpsJrFy"
   },
   "source": [
    "## Prepare the text for topic modeling\n",
    "\n",
    "Once you have removed all the blank complaints, you need to:\n",
    "\n",
    "* Make the text lowercase\n",
    "* Remove text in square brackets\n",
    "* Remove punctuation\n",
    "* Remove words containing numbers\n",
    "\n",
    "\n",
    "Once you have done these cleaning operations you need to perform the following:\n",
    "* Lemmatize the texts\n",
    "* Extract the POS tags of the lemmatized text and remove all the words which have tags other than NN[tag == \"NN\"].\n"
   ]
  },
  {
   "cell_type": "code",
   "execution_count": 8,
   "metadata": {
    "id": "qm7SjjSkJrFz"
   },
   "outputs": [],
   "source": [
    "# Write your function here to clean the text and remove all the unnecessary elements.\n",
    "def clean_text(text):\n",
    "    #Make text to lower case\n",
    "    text=text.lower()\n",
    "    #Remove text in quare brackets\n",
    "    brackets_regex = r'\\[.*?\\]'\n",
    "    text = re.sub(brackets_regex, '', text)\n",
    "    #Remove punctuations using string.punctuation\n",
    "    text = ''.join(c for c in text if c not in string.punctuation)\n",
    "    #Remove words containing numbers\n",
    "    numbers_regex = r'[^\\s]*[\\d]+[^\\s]*'\n",
    "    text = re.sub(numbers_regex, '', text)\n",
    "\n",
    "    return text"
   ]
  },
  {
   "cell_type": "code",
   "execution_count": 9,
   "metadata": {
    "id": "9CZfyXw5dXZ8"
   },
   "outputs": [],
   "source": [
    "cleaned_complaints = df[\"complaint_what_happened\"].apply(clean_text)"
   ]
  },
  {
   "cell_type": "code",
   "execution_count": 10,
   "metadata": {
    "id": "zgOu8t8HJrFz"
   },
   "outputs": [],
   "source": [
    "#Write your function to Lemmatize the texts\n",
    "def lemmatize_text(text):\n",
    "    doc = nlp(text)\n",
    "    lemmas = [token.lemma_ for token in doc]\n",
    "    return \" \".join(lemmas)"
   ]
  },
  {
   "cell_type": "code",
   "execution_count": 11,
   "metadata": {
    "id": "p4aD_i3DdXZ9"
   },
   "outputs": [],
   "source": [
    "lemmatized_complaints = cleaned_complaints.apply(lemmatize_text)"
   ]
  },
  {
   "cell_type": "code",
   "execution_count": 12,
   "metadata": {
    "id": "uXnN7aa_JrF0"
   },
   "outputs": [],
   "source": [
    "#Create a dataframe('df_clean') that will have only the complaints and the lemmatized complaints\n",
    "pd.set_option(\"max_colwidth\", 500)\n",
    "df_clean = pd.DataFrame({\"complaints\" : df[\"complaint_what_happened\"], \"lemmatized_complaints\" : lemmatized_complaints})\n",
    "df_clean.reset_index(drop = True, inplace = True)"
   ]
  },
  {
   "cell_type": "code",
   "execution_count": 13,
   "metadata": {
    "colab": {
     "base_uri": "https://localhost:8080/",
     "height": 1000
    },
    "id": "nOiDVvEIJrF0",
    "outputId": "5989bb54-7e90-4e36-cb40-d9f36bd93a22"
   },
   "outputs": [
    {
     "data": {
      "text/html": [
       "<div>\n",
       "<style scoped>\n",
       "    .dataframe tbody tr th:only-of-type {\n",
       "        vertical-align: middle;\n",
       "    }\n",
       "\n",
       "    .dataframe tbody tr th {\n",
       "        vertical-align: top;\n",
       "    }\n",
       "\n",
       "    .dataframe thead th {\n",
       "        text-align: right;\n",
       "    }\n",
       "</style>\n",
       "<table border=\"1\" class=\"dataframe\">\n",
       "  <thead>\n",
       "    <tr style=\"text-align: right;\">\n",
       "      <th></th>\n",
       "      <th>complaints</th>\n",
       "      <th>lemmatized_complaints</th>\n",
       "    </tr>\n",
       "  </thead>\n",
       "  <tbody>\n",
       "    <tr>\n",
       "      <th>0</th>\n",
       "      <td>Good morning my name is XXXX XXXX and I appreciate it if you could help me put a stop to Chase Bank cardmember services. \\nIn 2018 I wrote to Chase asking for debt verification and what they sent me a statement which is not acceptable. I am asking the bank to validate the debt. Instead I been receiving mail every month from them attempting to collect a debt. \\nI have a right to know this information as a consumer. \\n\\nChase account # XXXX XXXX XXXX XXXX Thanks in advance for your help.</td>\n",
       "      <td>good morning my name be xxxx xxxx and I appreciate it if you could help I put a stop to chase bank cardmember service \\n in   I write to chase ask for debt verification and what they send I a statement which be not acceptable I be ask the bank to validate the debt instead I been receive mail every month from they attempt to collect a debt \\n I have a right to know this information as a consumer \\n\\n chase account   xxxx xxxx xxxx xxxx thank in advance for your help</td>\n",
       "    </tr>\n",
       "    <tr>\n",
       "      <th>1</th>\n",
       "      <td>I upgraded my XXXX XXXX card in XX/XX/2018 and was told by the agent who did the upgrade my anniversary date would not change. It turned the agent was giving me the wrong information in order to upgrade the account. XXXX   changed my anniversary date from XX/XX/XXXX to XX/XX/XXXX without my consent! XXXX has the recording of the agent who was misled me.</td>\n",
       "      <td>I upgrade my xxxx xxxx card in   and be tell by the agent who do the upgrade my anniversary date would not change it turn the agent be give I the wrong information in order to upgrade the account xxxx    change my anniversary date from xxxxxxxx to xxxxxxxx without my consent xxxx have the recording of the agent who be mislead I</td>\n",
       "    </tr>\n",
       "    <tr>\n",
       "      <th>2</th>\n",
       "      <td>Chase Card was reported on XX/XX/2019. However, fraudulent application have been submitted my identity without my consent to fraudulently obtain services. Do not extend credit without verifying the identity of the applicant.</td>\n",
       "      <td>chase card be report on   however fraudulent application have be submit my identity without my consent to fraudulently obtain service do not extend credit without verify the identity of the applicant</td>\n",
       "    </tr>\n",
       "    <tr>\n",
       "      <th>3</th>\n",
       "      <td>On XX/XX/2018, while trying to book a XXXX  XXXX  ticket, I came across an offer for {$300.00} to be applied towards the ticket if I applied for a rewards card. I put in my information for the offer and within less than a minute, was notified via the screen that a decision could not be made. I immediately contacted XXXX and was referred to Chase Bank. I then immediately contacted Chase bank within no more than 10minutes of getting the notification on the screen and I was told by the Chase re...</td>\n",
       "      <td>on   while try to book a xxxx   xxxx   ticket I come across an offer for   to be apply towards the ticket if I apply for a reward card I put in my information for the offer and within less than a minute be notify via the screen that a decision could not be make I immediately contact xxxx and be refer to chase bank I then immediately contact chase bank within no more than   of get the notification on the screen and I be tell by the chase representative I speak with that my application be deny...</td>\n",
       "    </tr>\n",
       "    <tr>\n",
       "      <th>4</th>\n",
       "      <td>my grand son give me check for {$1600.00} i deposit it into my chase account after fund clear my chase bank closed my account never paid me my money they said they need to speek with my grand son check was clear money was taking by my chase bank refuse to pay me my money my grand son called chase 2 times they told him i should call not him to verify the check owner he is out the country most the time  date happen XX/XX/2018 check number XXXX claim number is XXXX with chase</td>\n",
       "      <td>my grand son give I check for   I deposit it into my chase account after fund clear my chase bank close my account never pay I my money they say they need to speek with my grand son check be clear money be take by my chase bank refuse to pay I my money my grand son call chase   time they tell he I should call not he to verify the check owner he be out the country most the time   date happen   check number xxxx claim number be xxxx with chase</td>\n",
       "    </tr>\n",
       "    <tr>\n",
       "      <th>...</th>\n",
       "      <td>...</td>\n",
       "      <td>...</td>\n",
       "    </tr>\n",
       "    <tr>\n",
       "      <th>21067</th>\n",
       "      <td>After being a Chase Card customer for well over a decade, was offered multiple solicitations for acquiring new credit cards with Chase - all with bonus airline miles and hotel points. Was approved for all ( 3 ) new cards with No annual fee for 1st year. After less than 2 months with payment always paid as agreed, Chase closed all my cards. One of my ( 3 ) approved new cards was never activated but was sent to me.\\n\\nChase has done harm to my credit, has charged me an annual fee even though t...</td>\n",
       "      <td>after be a chase card customer for well over a decade be offer multiple solicitation for acquire new credit card with chase   all with bonus airline mile and hotel point be approve for all     new card with no annual fee for   year after less than   month with payment always pay as agree chase close all my card one of my     approve new card be never activate but be send to I \\n\\n chase have do harm to my credit have charge I an annual fee even though they cancel my account fail to credit my...</td>\n",
       "    </tr>\n",
       "    <tr>\n",
       "      <th>21068</th>\n",
       "      <td>On Wednesday, XX/XX/XXXX I called Chas, my XXXX XXXX Visa Credit Card provider, and asked how to make a claim under their purchase protection benefit. On XX/XX/XXXX, I purchased three high school textbooks for my XXXX year old daughter because she transferred to a new school. All three books were damaged when a water bottle in her backpack broke. The Chase representative assured me the textbooks would be covered and instructed me to file a claim at XXXX. I immediately went to the website and...</td>\n",
       "      <td>on wednesday xxxxxxxx I call chas my xxxx xxxx visa credit card provider and ask how to make a claim under their purchase protection benefit on xxxxxxxx I purchase three high school textbook for my xxxx year old daughter because she transfer to a new school all three book be damage when a water bottle in her backpack break the chase representative assure I the textbook would be cover and instruct I to file a claim at xxxx I immediately go to the website and file the claim include upload all ...</td>\n",
       "    </tr>\n",
       "    <tr>\n",
       "      <th>21069</th>\n",
       "      <td>I am not familiar with XXXX pay and did not understand the great risk this provides to consumers. I believed this to be safe as it was through my Chase bank app. I have been with Chase for almost 20 years and trust their mobile banking and now am sadly regretful. I am being told to deal with the merchant except the merchant has refused to answer my inquiries and now shut down communication. The website of the said merchant looks entirely legitamite and is even using the faces of highly succe...</td>\n",
       "      <td>I be not familiar with xxxx pay and do not understand the great risk this provide to consumer I believe this to be safe as it be through my chase bank app I have be with chase for almost   year and trust their mobile banking and now be sadly regretful I be be tell to deal with the merchant except the merchant have refuse to answer my inquiry and now shut down communication the website of the say merchant look entirely legitamite and be even use the face of highly successful brand with indivi...</td>\n",
       "    </tr>\n",
       "    <tr>\n",
       "      <th>21070</th>\n",
       "      <td>I have had flawless credit for 30 yrs. I've had Chase credit cards, \" Chase Freedom '' specifically since XXXX with no problems ever. I've done many balance transfers in my life, so I have plenty of experience. I recently did a balance transfer with Chase Freedom for {$9000.00} ( did many with other Chase cards, but apparently not \" Freeedom '' ) When I got my first bill, my minimum payment was {$470.00}. I was SHOCKED. I immediately called on XX/XX/XXXX. The representative told me that the ...</td>\n",
       "      <td>I have have flawless credit for   yrs I ve have chase credit card   chase freedom   specifically since xxxx with no problem ever I ve do many balance transfer in my life so I have plenty of experience I recently do a balance transfer with chase freedom for    do many with other chase card but apparently not   freeedom    when I get my first bill my minimum payment be   I be shock I immediately call on xxxxxxxx the representative tell I that the min payment be so high bc they be make I pay th...</td>\n",
       "    </tr>\n",
       "    <tr>\n",
       "      <th>21071</th>\n",
       "      <td>Roughly 10+ years ago I closed out my accounts with JP Morgan Chase Bank XXXX in order to close out an unsecured line of credit I had to pay it off. I did that to close out my account roughly {$500.00} payment when I closed out the accounts, and now I get this late payment that showed up on my credit report after 10+ years stating I owe close to {$900.00} dollars. I have never had any payment schedules or notifications in the 10+ years because I paid it off. Upon calling them I am told I nee...</td>\n",
       "      <td>roughly   year ago I close out my account with jp morgan chase bank xxxx in order to close out an unsecured line of credit I have to pay it off I do that to close out my account roughly   payment when I close out the account and now I get this late payment that show up on my credit report after   year state I owe close to   dollar I have never have any payment schedule or notification in the   year because I pay it off upon call they I be tell I need to show proof I pay it off I would like t...</td>\n",
       "    </tr>\n",
       "  </tbody>\n",
       "</table>\n",
       "<p>21072 rows × 2 columns</p>\n",
       "</div>"
      ],
      "text/plain": [
       "                                                                                                                                                                                                                                                                                                                                                                                                                                                                                                                complaints  \\\n",
       "0               Good morning my name is XXXX XXXX and I appreciate it if you could help me put a stop to Chase Bank cardmember services. \\nIn 2018 I wrote to Chase asking for debt verification and what they sent me a statement which is not acceptable. I am asking the bank to validate the debt. Instead I been receiving mail every month from them attempting to collect a debt. \\nI have a right to know this information as a consumer. \\n\\nChase account # XXXX XXXX XXXX XXXX Thanks in advance for your help.   \n",
       "1                                                                                                                                                      I upgraded my XXXX XXXX card in XX/XX/2018 and was told by the agent who did the upgrade my anniversary date would not change. It turned the agent was giving me the wrong information in order to upgrade the account. XXXX   changed my anniversary date from XX/XX/XXXX to XX/XX/XXXX without my consent! XXXX has the recording of the agent who was misled me.   \n",
       "2                                                                                                                                                                                                                                                                                         Chase Card was reported on XX/XX/2019. However, fraudulent application have been submitted my identity without my consent to fraudulently obtain services. Do not extend credit without verifying the identity of the applicant.   \n",
       "3      On XX/XX/2018, while trying to book a XXXX  XXXX  ticket, I came across an offer for {$300.00} to be applied towards the ticket if I applied for a rewards card. I put in my information for the offer and within less than a minute, was notified via the screen that a decision could not be made. I immediately contacted XXXX and was referred to Chase Bank. I then immediately contacted Chase bank within no more than 10minutes of getting the notification on the screen and I was told by the Chase re...   \n",
       "4                            my grand son give me check for {$1600.00} i deposit it into my chase account after fund clear my chase bank closed my account never paid me my money they said they need to speek with my grand son check was clear money was taking by my chase bank refuse to pay me my money my grand son called chase 2 times they told him i should call not him to verify the check owner he is out the country most the time  date happen XX/XX/2018 check number XXXX claim number is XXXX with chase   \n",
       "...                                                                                                                                                                                                                                                                                                                                                                                                                                                                                                                    ...   \n",
       "21067  After being a Chase Card customer for well over a decade, was offered multiple solicitations for acquiring new credit cards with Chase - all with bonus airline miles and hotel points. Was approved for all ( 3 ) new cards with No annual fee for 1st year. After less than 2 months with payment always paid as agreed, Chase closed all my cards. One of my ( 3 ) approved new cards was never activated but was sent to me.\\n\\nChase has done harm to my credit, has charged me an annual fee even though t...   \n",
       "21068  On Wednesday, XX/XX/XXXX I called Chas, my XXXX XXXX Visa Credit Card provider, and asked how to make a claim under their purchase protection benefit. On XX/XX/XXXX, I purchased three high school textbooks for my XXXX year old daughter because she transferred to a new school. All three books were damaged when a water bottle in her backpack broke. The Chase representative assured me the textbooks would be covered and instructed me to file a claim at XXXX. I immediately went to the website and...   \n",
       "21069  I am not familiar with XXXX pay and did not understand the great risk this provides to consumers. I believed this to be safe as it was through my Chase bank app. I have been with Chase for almost 20 years and trust their mobile banking and now am sadly regretful. I am being told to deal with the merchant except the merchant has refused to answer my inquiries and now shut down communication. The website of the said merchant looks entirely legitamite and is even using the faces of highly succe...   \n",
       "21070  I have had flawless credit for 30 yrs. I've had Chase credit cards, \" Chase Freedom '' specifically since XXXX with no problems ever. I've done many balance transfers in my life, so I have plenty of experience. I recently did a balance transfer with Chase Freedom for {$9000.00} ( did many with other Chase cards, but apparently not \" Freeedom '' ) When I got my first bill, my minimum payment was {$470.00}. I was SHOCKED. I immediately called on XX/XX/XXXX. The representative told me that the ...   \n",
       "21071  Roughly 10+ years ago I closed out my accounts with JP Morgan Chase Bank XXXX in order to close out an unsecured line of credit I had to pay it off. I did that to close out my account roughly {$500.00} payment when I closed out the accounts, and now I get this late payment that showed up on my credit report after 10+ years stating I owe close to {$900.00} dollars. I have never had any payment schedules or notifications in the 10+ years because I paid it off. Upon calling them I am told I nee...   \n",
       "\n",
       "                                                                                                                                                                                                                                                                                                                                                                                                                                                                                                     lemmatized_complaints  \n",
       "0                                    good morning my name be xxxx xxxx and I appreciate it if you could help I put a stop to chase bank cardmember service \\n in   I write to chase ask for debt verification and what they send I a statement which be not acceptable I be ask the bank to validate the debt instead I been receive mail every month from they attempt to collect a debt \\n I have a right to know this information as a consumer \\n\\n chase account   xxxx xxxx xxxx xxxx thank in advance for your help  \n",
       "1                                                                                                                                                                                I upgrade my xxxx xxxx card in   and be tell by the agent who do the upgrade my anniversary date would not change it turn the agent be give I the wrong information in order to upgrade the account xxxx    change my anniversary date from xxxxxxxx to xxxxxxxx without my consent xxxx have the recording of the agent who be mislead I  \n",
       "2                                                                                                                                                                                                                                                                                                                  chase card be report on   however fraudulent application have be submit my identity without my consent to fraudulently obtain service do not extend credit without verify the identity of the applicant  \n",
       "3      on   while try to book a xxxx   xxxx   ticket I come across an offer for   to be apply towards the ticket if I apply for a reward card I put in my information for the offer and within less than a minute be notify via the screen that a decision could not be make I immediately contact xxxx and be refer to chase bank I then immediately contact chase bank within no more than   of get the notification on the screen and I be tell by the chase representative I speak with that my application be deny...  \n",
       "4                                                            my grand son give I check for   I deposit it into my chase account after fund clear my chase bank close my account never pay I my money they say they need to speek with my grand son check be clear money be take by my chase bank refuse to pay I my money my grand son call chase   time they tell he I should call not he to verify the check owner he be out the country most the time   date happen   check number xxxx claim number be xxxx with chase  \n",
       "...                                                                                                                                                                                                                                                                                                                                                                                                                                                                                                                    ...  \n",
       "21067  after be a chase card customer for well over a decade be offer multiple solicitation for acquire new credit card with chase   all with bonus airline mile and hotel point be approve for all     new card with no annual fee for   year after less than   month with payment always pay as agree chase close all my card one of my     approve new card be never activate but be send to I \\n\\n chase have do harm to my credit have charge I an annual fee even though they cancel my account fail to credit my...  \n",
       "21068  on wednesday xxxxxxxx I call chas my xxxx xxxx visa credit card provider and ask how to make a claim under their purchase protection benefit on xxxxxxxx I purchase three high school textbook for my xxxx year old daughter because she transfer to a new school all three book be damage when a water bottle in her backpack break the chase representative assure I the textbook would be cover and instruct I to file a claim at xxxx I immediately go to the website and file the claim include upload all ...  \n",
       "21069  I be not familiar with xxxx pay and do not understand the great risk this provide to consumer I believe this to be safe as it be through my chase bank app I have be with chase for almost   year and trust their mobile banking and now be sadly regretful I be be tell to deal with the merchant except the merchant have refuse to answer my inquiry and now shut down communication the website of the say merchant look entirely legitamite and be even use the face of highly successful brand with indivi...  \n",
       "21070  I have have flawless credit for   yrs I ve have chase credit card   chase freedom   specifically since xxxx with no problem ever I ve do many balance transfer in my life so I have plenty of experience I recently do a balance transfer with chase freedom for    do many with other chase card but apparently not   freeedom    when I get my first bill my minimum payment be   I be shock I immediately call on xxxxxxxx the representative tell I that the min payment be so high bc they be make I pay th...  \n",
       "21071  roughly   year ago I close out my account with jp morgan chase bank xxxx in order to close out an unsecured line of credit I have to pay it off I do that to close out my account roughly   payment when I close out the account and now I get this late payment that show up on my credit report after   year state I owe close to   dollar I have never have any payment schedule or notification in the   year because I pay it off upon call they I be tell I need to show proof I pay it off I would like t...  \n",
       "\n",
       "[21072 rows x 2 columns]"
      ]
     },
     "execution_count": 13,
     "metadata": {},
     "output_type": "execute_result"
    }
   ],
   "source": [
    "df_clean"
   ]
  },
  {
   "cell_type": "code",
   "execution_count": 14,
   "metadata": {
    "id": "Kk7fc4DuJrF1"
   },
   "outputs": [],
   "source": [
    "#Write your function to extract the POS tags\n",
    "\n",
    "def pos_tag(text):\n",
    "    # Tokenize the text\n",
    "    doc = nlp(text)\n",
    "    # Get the POS tags\n",
    "    pos_tags = [(token.text, token.tag_) for token in doc]\n",
    "    return pos_tags\n",
    "\n",
    "def remove_pos_tags(text):\n",
    "    #Tokenize the text\n",
    "    doc = nlp(text)\n",
    "    # Filter out words with the NN Tags\n",
    "    filtered_tokens = [token.text for token in doc if token.tag_ == \"NN\"]\n",
    "    # Join the filtered tokens back together\n",
    "    filtered_text = \" \".join(filtered_tokens)\n",
    "\n",
    "    return filtered_text\n",
    "\n",
    "pos_tags = df_clean[\"lemmatized_complaints\"].apply(pos_tag)\n",
    "df_clean[\"complaint_POS_removed\"] = df_clean[\"lemmatized_complaints\"].apply(lambda text: remove_pos_tags(text))  #this column should contain lemmatized text with all the words removed which have tags other than NN[tag == \"NN\"].\n"
   ]
  },
  {
   "cell_type": "code",
   "execution_count": 15,
   "metadata": {
    "colab": {
     "base_uri": "https://localhost:8080/",
     "height": 1000
    },
    "id": "AjxfchvFJrF2",
    "outputId": "aacc3cd5-adcf-4bef-b5ca-90f63704dba2"
   },
   "outputs": [
    {
     "data": {
      "text/html": [
       "<div>\n",
       "<style scoped>\n",
       "    .dataframe tbody tr th:only-of-type {\n",
       "        vertical-align: middle;\n",
       "    }\n",
       "\n",
       "    .dataframe tbody tr th {\n",
       "        vertical-align: top;\n",
       "    }\n",
       "\n",
       "    .dataframe thead th {\n",
       "        text-align: right;\n",
       "    }\n",
       "</style>\n",
       "<table border=\"1\" class=\"dataframe\">\n",
       "  <thead>\n",
       "    <tr style=\"text-align: right;\">\n",
       "      <th></th>\n",
       "      <th>complaints</th>\n",
       "      <th>lemmatized_complaints</th>\n",
       "      <th>complaint_POS_removed</th>\n",
       "    </tr>\n",
       "  </thead>\n",
       "  <tbody>\n",
       "    <tr>\n",
       "      <th>0</th>\n",
       "      <td>Good morning my name is XXXX XXXX and I appreciate it if you could help me put a stop to Chase Bank cardmember services. \\nIn 2018 I wrote to Chase asking for debt verification and what they sent me a statement which is not acceptable. I am asking the bank to validate the debt. Instead I been receiving mail every month from them attempting to collect a debt. \\nI have a right to know this information as a consumer. \\n\\nChase account # XXXX XXXX XXXX XXXX Thanks in advance for your help.</td>\n",
       "      <td>good morning my name be xxxx xxxx and I appreciate it if you could help I put a stop to chase bank cardmember service \\n in   I write to chase ask for debt verification and what they send I a statement which be not acceptable I be ask the bank to validate the debt instead I been receive mail every month from they attempt to collect a debt \\n I have a right to know this information as a consumer \\n\\n chase account   xxxx xxxx xxxx xxxx thank in advance for your help</td>\n",
       "      <td>morning name stop bank service ask debt verification statement bank debt mail month debt right information consumer chase account xxxx advance help</td>\n",
       "    </tr>\n",
       "    <tr>\n",
       "      <th>1</th>\n",
       "      <td>I upgraded my XXXX XXXX card in XX/XX/2018 and was told by the agent who did the upgrade my anniversary date would not change. It turned the agent was giving me the wrong information in order to upgrade the account. XXXX   changed my anniversary date from XX/XX/XXXX to XX/XX/XXXX without my consent! XXXX has the recording of the agent who was misled me.</td>\n",
       "      <td>I upgrade my xxxx xxxx card in   and be tell by the agent who do the upgrade my anniversary date would not change it turn the agent be give I the wrong information in order to upgrade the account xxxx    change my anniversary date from xxxxxxxx to xxxxxxxx without my consent xxxx have the recording of the agent who be mislead I</td>\n",
       "      <td>xxxx card agent anniversary date agent information order account xxxx anniversary date consent recording agent</td>\n",
       "    </tr>\n",
       "    <tr>\n",
       "      <th>2</th>\n",
       "      <td>Chase Card was reported on XX/XX/2019. However, fraudulent application have been submitted my identity without my consent to fraudulently obtain services. Do not extend credit without verifying the identity of the applicant.</td>\n",
       "      <td>chase card be report on   however fraudulent application have be submit my identity without my consent to fraudulently obtain service do not extend credit without verify the identity of the applicant</td>\n",
       "      <td>chase card report application identity consent service credit identity applicant</td>\n",
       "    </tr>\n",
       "    <tr>\n",
       "      <th>3</th>\n",
       "      <td>On XX/XX/2018, while trying to book a XXXX  XXXX  ticket, I came across an offer for {$300.00} to be applied towards the ticket if I applied for a rewards card. I put in my information for the offer and within less than a minute, was notified via the screen that a decision could not be made. I immediately contacted XXXX and was referred to Chase Bank. I then immediately contacted Chase bank within no more than 10minutes of getting the notification on the screen and I was told by the Chase re...</td>\n",
       "      <td>on   while try to book a xxxx   xxxx   ticket I come across an offer for   to be apply towards the ticket if I apply for a reward card I put in my information for the offer and within less than a minute be notify via the screen that a decision could not be make I immediately contact xxxx and be refer to chase bank I then immediately contact chase bank within no more than   of get the notification on the screen and I be tell by the chase representative I speak with that my application be deny...</td>\n",
       "      <td>xxxx xxxx ticket offer ticket reward card information offer minute screen decision xxxx refer bank chase bank notification screen representative application information xxxx credit offer account statement use ticket account application oblige application request application representative chase fact credit account name report credit report chase information credit report application error</td>\n",
       "    </tr>\n",
       "    <tr>\n",
       "      <th>4</th>\n",
       "      <td>my grand son give me check for {$1600.00} i deposit it into my chase account after fund clear my chase bank closed my account never paid me my money they said they need to speek with my grand son check was clear money was taking by my chase bank refuse to pay me my money my grand son called chase 2 times they told him i should call not him to verify the check owner he is out the country most the time  date happen XX/XX/2018 check number XXXX claim number is XXXX with chase</td>\n",
       "      <td>my grand son give I check for   I deposit it into my chase account after fund clear my chase bank close my account never pay I my money they say they need to speek with my grand son check be clear money be take by my chase bank refuse to pay I my money my grand son call chase   time they tell he I should call not he to verify the check owner he be out the country most the time   date happen   check number xxxx claim number be xxxx with chase</td>\n",
       "      <td>son chase account fund chase bank account money son check money chase bank money son chase time check owner country time date check number claim number xxxx chase</td>\n",
       "    </tr>\n",
       "    <tr>\n",
       "      <th>...</th>\n",
       "      <td>...</td>\n",
       "      <td>...</td>\n",
       "      <td>...</td>\n",
       "    </tr>\n",
       "    <tr>\n",
       "      <th>21067</th>\n",
       "      <td>After being a Chase Card customer for well over a decade, was offered multiple solicitations for acquiring new credit cards with Chase - all with bonus airline miles and hotel points. Was approved for all ( 3 ) new cards with No annual fee for 1st year. After less than 2 months with payment always paid as agreed, Chase closed all my cards. One of my ( 3 ) approved new cards was never activated but was sent to me.\\n\\nChase has done harm to my credit, has charged me an annual fee even though t...</td>\n",
       "      <td>after be a chase card customer for well over a decade be offer multiple solicitation for acquire new credit card with chase   all with bonus airline mile and hotel point be approve for all     new card with no annual fee for   year after less than   month with payment always pay as agree chase close all my card one of my     approve new card be never activate but be send to I \\n\\n chase have do harm to my credit have charge I an annual fee even though they cancel my account fail to credit my...</td>\n",
       "      <td>chase card customer decade solicitation credit card chase bonus airline mile hotel point card fee year month payment chase card card chase harm credit fee account point airline hotel xxxx enrollment credit airline charge</td>\n",
       "    </tr>\n",
       "    <tr>\n",
       "      <th>21068</th>\n",
       "      <td>On Wednesday, XX/XX/XXXX I called Chas, my XXXX XXXX Visa Credit Card provider, and asked how to make a claim under their purchase protection benefit. On XX/XX/XXXX, I purchased three high school textbooks for my XXXX year old daughter because she transferred to a new school. All three books were damaged when a water bottle in her backpack broke. The Chase representative assured me the textbooks would be covered and instructed me to file a claim at XXXX. I immediately went to the website and...</td>\n",
       "      <td>on wednesday xxxxxxxx I call chas my xxxx xxxx visa credit card provider and ask how to make a claim under their purchase protection benefit on xxxxxxxx I purchase three high school textbook for my xxxx year old daughter because she transfer to a new school all three book be damage when a water bottle in her backpack break the chase representative assure I the textbook would be cover and instruct I to file a claim at xxxx I immediately go to the website and file the claim include upload all ...</td>\n",
       "      <td>xxxx credit card provider claim purchase protection benefit xxxxxxxx school textbook xxxx year daughter school book damage water bottle backpack representative assure textbook claim website claim upload request paperwork copy credit card statement copy receipt evidence damage website book catagorie type item claim claim insurance provider information contact business day step process outline email claim submission representative claim examiner day day claim information information write emai...</td>\n",
       "    </tr>\n",
       "    <tr>\n",
       "      <th>21069</th>\n",
       "      <td>I am not familiar with XXXX pay and did not understand the great risk this provides to consumers. I believed this to be safe as it was through my Chase bank app. I have been with Chase for almost 20 years and trust their mobile banking and now am sadly regretful. I am being told to deal with the merchant except the merchant has refused to answer my inquiries and now shut down communication. The website of the said merchant looks entirely legitamite and is even using the faces of highly succe...</td>\n",
       "      <td>I be not familiar with xxxx pay and do not understand the great risk this provide to consumer I believe this to be safe as it be through my chase bank app I have be with chase for almost   year and trust their mobile banking and now be sadly regretful I be be tell to deal with the merchant except the merchant have refuse to answer my inquiry and now shut down communication the website of the say merchant look entirely legitamite and be even use the face of highly successful brand with indivi...</td>\n",
       "      <td>xxxx risk consumer chase bank app chase year banking merchant merchant inquiry communication website merchant face brand link medium consent perform research phone number information merchant account title holder cycle fraud non fix voip use identity report report recourse matter protocol place issue app verbiage point app branch chase banking service degree entitlement customer service protection protocol chase back link xxxx tab place consumer risk service concern chase slight minimum risk...</td>\n",
       "    </tr>\n",
       "    <tr>\n",
       "      <th>21070</th>\n",
       "      <td>I have had flawless credit for 30 yrs. I've had Chase credit cards, \" Chase Freedom '' specifically since XXXX with no problems ever. I've done many balance transfers in my life, so I have plenty of experience. I recently did a balance transfer with Chase Freedom for {$9000.00} ( did many with other Chase cards, but apparently not \" Freeedom '' ) When I got my first bill, my minimum payment was {$470.00}. I was SHOCKED. I immediately called on XX/XX/XXXX. The representative told me that the ...</td>\n",
       "      <td>I have have flawless credit for   yrs I ve have chase credit card   chase freedom   specifically since xxxx with no problem ever I ve do many balance transfer in my life so I have plenty of experience I recently do a balance transfer with chase freedom for    do many with other chase card but apparently not   freeedom    when I get my first bill my minimum payment be   I be shock I immediately call on xxxxxxxx the representative tell I that the min payment be so high bc they be make I pay th...</td>\n",
       "      <td>credit yrs chase credit card chase freedom problem balance transfer life plenty experience balance transfer chase freedom chase card freeedom bill payment shock xxxxxxxx representative min payment balance transfer fee front payment balance rate payment xxxxxxxx shock payment chase representative standard user agreement paperwork xxxxxxxx year everyone world card chase amt someone credit card kid bill chart payment percentage paperwork everyone term term payment transfer fee balance card paym...</td>\n",
       "    </tr>\n",
       "    <tr>\n",
       "      <th>21071</th>\n",
       "      <td>Roughly 10+ years ago I closed out my accounts with JP Morgan Chase Bank XXXX in order to close out an unsecured line of credit I had to pay it off. I did that to close out my account roughly {$500.00} payment when I closed out the accounts, and now I get this late payment that showed up on my credit report after 10+ years stating I owe close to {$900.00} dollars. I have never had any payment schedules or notifications in the 10+ years because I paid it off. Upon calling them I am told I nee...</td>\n",
       "      <td>roughly   year ago I close out my account with jp morgan chase bank xxxx in order to close out an unsecured line of credit I have to pay it off I do that to close out my account roughly   payment when I close out the account and now I get this late payment that show up on my credit report after   year state I owe close to   dollar I have never have any payment schedule or notification in the   year because I pay it off upon call they I be tell I need to show proof I pay it off I would like t...</td>\n",
       "      <td>year account order line credit account payment account payment credit report year state dollar payment schedule notification year call proof payment notification bank customer service charge line banking institution</td>\n",
       "    </tr>\n",
       "  </tbody>\n",
       "</table>\n",
       "<p>21072 rows × 3 columns</p>\n",
       "</div>"
      ],
      "text/plain": [
       "                                                                                                                                                                                                                                                                                                                                                                                                                                                                                                                complaints  \\\n",
       "0               Good morning my name is XXXX XXXX and I appreciate it if you could help me put a stop to Chase Bank cardmember services. \\nIn 2018 I wrote to Chase asking for debt verification and what they sent me a statement which is not acceptable. I am asking the bank to validate the debt. Instead I been receiving mail every month from them attempting to collect a debt. \\nI have a right to know this information as a consumer. \\n\\nChase account # XXXX XXXX XXXX XXXX Thanks in advance for your help.   \n",
       "1                                                                                                                                                      I upgraded my XXXX XXXX card in XX/XX/2018 and was told by the agent who did the upgrade my anniversary date would not change. It turned the agent was giving me the wrong information in order to upgrade the account. XXXX   changed my anniversary date from XX/XX/XXXX to XX/XX/XXXX without my consent! XXXX has the recording of the agent who was misled me.   \n",
       "2                                                                                                                                                                                                                                                                                         Chase Card was reported on XX/XX/2019. However, fraudulent application have been submitted my identity without my consent to fraudulently obtain services. Do not extend credit without verifying the identity of the applicant.   \n",
       "3      On XX/XX/2018, while trying to book a XXXX  XXXX  ticket, I came across an offer for {$300.00} to be applied towards the ticket if I applied for a rewards card. I put in my information for the offer and within less than a minute, was notified via the screen that a decision could not be made. I immediately contacted XXXX and was referred to Chase Bank. I then immediately contacted Chase bank within no more than 10minutes of getting the notification on the screen and I was told by the Chase re...   \n",
       "4                            my grand son give me check for {$1600.00} i deposit it into my chase account after fund clear my chase bank closed my account never paid me my money they said they need to speek with my grand son check was clear money was taking by my chase bank refuse to pay me my money my grand son called chase 2 times they told him i should call not him to verify the check owner he is out the country most the time  date happen XX/XX/2018 check number XXXX claim number is XXXX with chase   \n",
       "...                                                                                                                                                                                                                                                                                                                                                                                                                                                                                                                    ...   \n",
       "21067  After being a Chase Card customer for well over a decade, was offered multiple solicitations for acquiring new credit cards with Chase - all with bonus airline miles and hotel points. Was approved for all ( 3 ) new cards with No annual fee for 1st year. After less than 2 months with payment always paid as agreed, Chase closed all my cards. One of my ( 3 ) approved new cards was never activated but was sent to me.\\n\\nChase has done harm to my credit, has charged me an annual fee even though t...   \n",
       "21068  On Wednesday, XX/XX/XXXX I called Chas, my XXXX XXXX Visa Credit Card provider, and asked how to make a claim under their purchase protection benefit. On XX/XX/XXXX, I purchased three high school textbooks for my XXXX year old daughter because she transferred to a new school. All three books were damaged when a water bottle in her backpack broke. The Chase representative assured me the textbooks would be covered and instructed me to file a claim at XXXX. I immediately went to the website and...   \n",
       "21069  I am not familiar with XXXX pay and did not understand the great risk this provides to consumers. I believed this to be safe as it was through my Chase bank app. I have been with Chase for almost 20 years and trust their mobile banking and now am sadly regretful. I am being told to deal with the merchant except the merchant has refused to answer my inquiries and now shut down communication. The website of the said merchant looks entirely legitamite and is even using the faces of highly succe...   \n",
       "21070  I have had flawless credit for 30 yrs. I've had Chase credit cards, \" Chase Freedom '' specifically since XXXX with no problems ever. I've done many balance transfers in my life, so I have plenty of experience. I recently did a balance transfer with Chase Freedom for {$9000.00} ( did many with other Chase cards, but apparently not \" Freeedom '' ) When I got my first bill, my minimum payment was {$470.00}. I was SHOCKED. I immediately called on XX/XX/XXXX. The representative told me that the ...   \n",
       "21071  Roughly 10+ years ago I closed out my accounts with JP Morgan Chase Bank XXXX in order to close out an unsecured line of credit I had to pay it off. I did that to close out my account roughly {$500.00} payment when I closed out the accounts, and now I get this late payment that showed up on my credit report after 10+ years stating I owe close to {$900.00} dollars. I have never had any payment schedules or notifications in the 10+ years because I paid it off. Upon calling them I am told I nee...   \n",
       "\n",
       "                                                                                                                                                                                                                                                                                                                                                                                                                                                                                                     lemmatized_complaints  \\\n",
       "0                                    good morning my name be xxxx xxxx and I appreciate it if you could help I put a stop to chase bank cardmember service \\n in   I write to chase ask for debt verification and what they send I a statement which be not acceptable I be ask the bank to validate the debt instead I been receive mail every month from they attempt to collect a debt \\n I have a right to know this information as a consumer \\n\\n chase account   xxxx xxxx xxxx xxxx thank in advance for your help   \n",
       "1                                                                                                                                                                                I upgrade my xxxx xxxx card in   and be tell by the agent who do the upgrade my anniversary date would not change it turn the agent be give I the wrong information in order to upgrade the account xxxx    change my anniversary date from xxxxxxxx to xxxxxxxx without my consent xxxx have the recording of the agent who be mislead I   \n",
       "2                                                                                                                                                                                                                                                                                                                  chase card be report on   however fraudulent application have be submit my identity without my consent to fraudulently obtain service do not extend credit without verify the identity of the applicant   \n",
       "3      on   while try to book a xxxx   xxxx   ticket I come across an offer for   to be apply towards the ticket if I apply for a reward card I put in my information for the offer and within less than a minute be notify via the screen that a decision could not be make I immediately contact xxxx and be refer to chase bank I then immediately contact chase bank within no more than   of get the notification on the screen and I be tell by the chase representative I speak with that my application be deny...   \n",
       "4                                                            my grand son give I check for   I deposit it into my chase account after fund clear my chase bank close my account never pay I my money they say they need to speek with my grand son check be clear money be take by my chase bank refuse to pay I my money my grand son call chase   time they tell he I should call not he to verify the check owner he be out the country most the time   date happen   check number xxxx claim number be xxxx with chase   \n",
       "...                                                                                                                                                                                                                                                                                                                                                                                                                                                                                                                    ...   \n",
       "21067  after be a chase card customer for well over a decade be offer multiple solicitation for acquire new credit card with chase   all with bonus airline mile and hotel point be approve for all     new card with no annual fee for   year after less than   month with payment always pay as agree chase close all my card one of my     approve new card be never activate but be send to I \\n\\n chase have do harm to my credit have charge I an annual fee even though they cancel my account fail to credit my...   \n",
       "21068  on wednesday xxxxxxxx I call chas my xxxx xxxx visa credit card provider and ask how to make a claim under their purchase protection benefit on xxxxxxxx I purchase three high school textbook for my xxxx year old daughter because she transfer to a new school all three book be damage when a water bottle in her backpack break the chase representative assure I the textbook would be cover and instruct I to file a claim at xxxx I immediately go to the website and file the claim include upload all ...   \n",
       "21069  I be not familiar with xxxx pay and do not understand the great risk this provide to consumer I believe this to be safe as it be through my chase bank app I have be with chase for almost   year and trust their mobile banking and now be sadly regretful I be be tell to deal with the merchant except the merchant have refuse to answer my inquiry and now shut down communication the website of the say merchant look entirely legitamite and be even use the face of highly successful brand with indivi...   \n",
       "21070  I have have flawless credit for   yrs I ve have chase credit card   chase freedom   specifically since xxxx with no problem ever I ve do many balance transfer in my life so I have plenty of experience I recently do a balance transfer with chase freedom for    do many with other chase card but apparently not   freeedom    when I get my first bill my minimum payment be   I be shock I immediately call on xxxxxxxx the representative tell I that the min payment be so high bc they be make I pay th...   \n",
       "21071  roughly   year ago I close out my account with jp morgan chase bank xxxx in order to close out an unsecured line of credit I have to pay it off I do that to close out my account roughly   payment when I close out the account and now I get this late payment that show up on my credit report after   year state I owe close to   dollar I have never have any payment schedule or notification in the   year because I pay it off upon call they I be tell I need to show proof I pay it off I would like t...   \n",
       "\n",
       "                                                                                                                                                                                                                                                                                                                                                                                                                                                                                                     complaint_POS_removed  \n",
       "0                                                                                                                                                                                                                                                                                                                                                                      morning name stop bank service ask debt verification statement bank debt mail month debt right information consumer chase account xxxx advance help  \n",
       "1                                                                                                                                                                                                                                                                                                                                                                                                           xxxx card agent anniversary date agent information order account xxxx anniversary date consent recording agent  \n",
       "2                                                                                                                                                                                                                                                                                                                                                                                                                                         chase card report application identity consent service credit identity applicant  \n",
       "3                                                                                                                  xxxx xxxx ticket offer ticket reward card information offer minute screen decision xxxx refer bank chase bank notification screen representative application information xxxx credit offer account statement use ticket account application oblige application request application representative chase fact credit account name report credit report chase information credit report application error  \n",
       "4                                                                                                                                                                                                                                                                                                                                                       son chase account fund chase bank account money son check money chase bank money son chase time check owner country time date check number claim number xxxx chase  \n",
       "...                                                                                                                                                                                                                                                                                                                                                                                                                                                                                                                    ...  \n",
       "21067                                                                                                                                                                                                                                                                                         chase card customer decade solicitation credit card chase bonus airline mile hotel point card fee year month payment chase card card chase harm credit fee account point airline hotel xxxx enrollment credit airline charge  \n",
       "21068  xxxx credit card provider claim purchase protection benefit xxxxxxxx school textbook xxxx year daughter school book damage water bottle backpack representative assure textbook claim website claim upload request paperwork copy credit card statement copy receipt evidence damage website book catagorie type item claim claim insurance provider information contact business day step process outline email claim submission representative claim examiner day day claim information information write emai...  \n",
       "21069  xxxx risk consumer chase bank app chase year banking merchant merchant inquiry communication website merchant face brand link medium consent perform research phone number information merchant account title holder cycle fraud non fix voip use identity report report recourse matter protocol place issue app verbiage point app branch chase banking service degree entitlement customer service protection protocol chase back link xxxx tab place consumer risk service concern chase slight minimum risk...  \n",
       "21070  credit yrs chase credit card chase freedom problem balance transfer life plenty experience balance transfer chase freedom chase card freeedom bill payment shock xxxxxxxx representative min payment balance transfer fee front payment balance rate payment xxxxxxxx shock payment chase representative standard user agreement paperwork xxxxxxxx year everyone world card chase amt someone credit card kid bill chart payment percentage paperwork everyone term term payment transfer fee balance card paym...  \n",
       "21071                                                                                                                                                                                                                                                                                              year account order line credit account payment account payment credit report year state dollar payment schedule notification year call proof payment notification bank customer service charge line banking institution  \n",
       "\n",
       "[21072 rows x 3 columns]"
      ]
     },
     "execution_count": 15,
     "metadata": {},
     "output_type": "execute_result"
    }
   ],
   "source": [
    "#The clean dataframe should now contain the raw complaint, lemmatized complaint and the complaint after removing POS tags.\n",
    "df_clean"
   ]
  },
  {
   "cell_type": "markdown",
   "metadata": {
    "id": "_7Un1AElJrF2"
   },
   "source": [
    "## Exploratory data analysis to get familiar with the data.\n",
    "\n",
    "Write the code in this task to perform the following:\n",
    "\n",
    "*   Visualise the data according to the 'Complaint' character length\n",
    "*   Using a word cloud find the top 40 words by frequency among all the articles after processing the text\n",
    "*   Find the top unigrams,bigrams and trigrams by frequency among all the complaints after processing the text. ‘\n",
    "\n",
    "\n"
   ]
  },
  {
   "cell_type": "code",
   "execution_count": 16,
   "metadata": {
    "colab": {
     "base_uri": "https://localhost:8080/",
     "height": 472
    },
    "id": "q-zaqJF6JrF2",
    "outputId": "eb75bae3-9ffb-41fc-931b-c60fb3e81c2c"
   },
   "outputs": [
    {
     "data": {
      "image/png": "[encoded data removed]",
      "text/plain": [
       "<Figure size 640x480 with 1 Axes>"
      ]
     },
     "metadata": {},
     "output_type": "display_data"
    }
   ],
   "source": [
    "# Write your code here to visualise the data according to the 'Complaint' character length\n",
    "complaint_lengths = df_clean[\"complaint_POS_removed\"].str.len()\n",
    "# Plot the distribution of the complaint lengths\n",
    "plt.hist(complaint_lengths, bins =100)\n",
    "plt.xlabel(\"Complaint length (characters)\")\n",
    "plt.ylabel(\"Number of complaints\")\n",
    "plt.title(\"Distribution of complaint lengths\")\n",
    "plt.show()"
   ]
  },
  {
   "cell_type": "markdown",
   "metadata": {
    "id": "T9jD_6SeJrF3"
   },
   "source": [
    "#### Find the top 40 words by frequency among all the articles after processing the text."
   ]
  },
  {
   "cell_type": "code",
   "execution_count": 17,
   "metadata": {
    "colab": {
     "base_uri": "https://localhost:8080/",
     "height": 367
    },
    "id": "QcfdvtfZJrF3",
    "outputId": "06f58a84-b7f9-4cdc-b632-aeae90a87e32"
   },
   "outputs": [
    {
     "data": {
      "image/png": "[encoded data removed]",
      "text/plain": [
       "<Figure size 640x480 with 1 Axes>"
      ]
     },
     "metadata": {},
     "output_type": "display_data"
    }
   ],
   "source": [
    "#Using a word cloud find the top 40 words by frequency among all the articles after processing the text\n",
    "def create_wordcloud(text):\n",
    "    # Create a WordCloud object\n",
    "    word_cloud = wordcloud.WordCloud(\n",
    "      max_words=40,\n",
    "      background_color=\"white\",\n",
    "      width=750,\n",
    "      height=500,\n",
    "      random_state=100,\n",
    "      collocations = False,\n",
    "      stopwords=set(wordcloud.STOPWORDS)\n",
    "    )\n",
    "\n",
    "    # Generate the word cloud\n",
    "    word_cloud.generate(text)\n",
    "\n",
    "    return word_cloud\n",
    "\n",
    "top40_word_cloud = create_wordcloud(df_clean[\"complaint_POS_removed\"].str.cat(sep=\" \"))\n",
    "\n",
    "# Display the word cloud\n",
    "plt.imshow(top40_word_cloud)\n",
    "plt.axis(\"off\")\n",
    "plt.show()"
   ]
  },
  {
   "cell_type": "code",
   "execution_count": 18,
   "metadata": {
    "id": "OkSmc3UaJrF4"
   },
   "outputs": [],
   "source": [
    "#Removing -PRON- from the text corpus\n",
    "df_clean['Complaint_clean'] = df_clean['complaint_POS_removed'].str.replace('-PRON-', '')"
   ]
  },
  {
   "cell_type": "markdown",
   "metadata": {
    "id": "5DfCSbbmJrF4"
   },
   "source": [
    "#### Find the top unigrams,bigrams and trigrams by frequency among all the complaints after processing the text."
   ]
  },
  {
   "cell_type": "code",
   "execution_count": 19,
   "metadata": {},
   "outputs": [],
   "source": [
    "def get_top_n_grams_df(df, column, n):\n",
    "    # Create a CountVectorizer object\n",
    "    vectorizer = CountVectorizer(ngram_range=(n, n))\n",
    "    # Fit the vectorizer to the data frame column\n",
    "    vectorizer.fit(df[column])\n",
    "    # Transform the data frame column into a dense matrix\n",
    "    bow = vectorizer.transform(df[column])\n",
    "    # Get the counts\n",
    "    counts = bow.sum(axis=0)\n",
    "    words_freq = [(word, counts[0, idx]) for word, idx in vectorizer.vocabulary_.items()]\n",
    "    words_freq =sorted(words_freq, key = lambda x: x[1], reverse=True)\n",
    "    return words_freq[:30]\n"
   ]
  },
  {
   "cell_type": "code",
   "execution_count": 20,
   "metadata": {
    "id": "5mbk5DS5JrF4"
   },
   "outputs": [
    {
     "data": {
      "text/plain": [
       "[('chase', 52744),\n",
       " ('xxxx', 48182),\n",
       " ('account', 46732),\n",
       " ('credit', 33464),\n",
       " ('card', 30216),\n",
       " ('bank', 21612),\n",
       " ('payment', 21159),\n",
       " ('time', 16008),\n",
       " ('charge', 14153),\n",
       " ('xxxxxxxx', 13582),\n",
       " ('day', 12971),\n",
       " ('check', 12100),\n",
       " ('money', 11953),\n",
       " ('loan', 10899),\n",
       " ('information', 9643),\n",
       " ('letter', 9598),\n",
       " ('fee', 8890),\n",
       " ('report', 8855),\n",
       " ('number', 8614),\n",
       " ('transaction', 8564),\n",
       " ('month', 8461),\n",
       " ('amount', 8422),\n",
       " ('call', 8365),\n",
       " ('year', 8289),\n",
       " ('customer', 8137),\n",
       " ('mortgage', 8072),\n",
       " ('balance', 7759),\n",
       " ('service', 7698),\n",
       " ('phone', 7570),\n",
       " ('company', 7534)]"
      ]
     },
     "execution_count": 20,
     "metadata": {},
     "output_type": "execute_result"
    }
   ],
   "source": [
    "#Write your code here to find the top 30 unigram frequency among the complaints in the cleaned datafram(df_clean).\n",
    "top_30_uni = get_top_n_grams_df(df_clean, 'Complaint_clean',1)\n",
    "top_30_uni"
   ]
  },
  {
   "cell_type": "code",
   "execution_count": 21,
   "metadata": {
    "id": "YX7fedm1JrF8"
   },
   "outputs": [
    {
     "data": {
      "text/plain": [
       "[('chase', 52744),\n",
       " ('xxxx', 48182),\n",
       " ('account', 46732),\n",
       " ('credit', 33464),\n",
       " ('card', 30216),\n",
       " ('bank', 21612),\n",
       " ('payment', 21159),\n",
       " ('time', 16008),\n",
       " ('charge', 14153),\n",
       " ('xxxxxxxx', 13582)]"
      ]
     },
     "execution_count": 21,
     "metadata": {},
     "output_type": "execute_result"
    }
   ],
   "source": [
    "#Print the top 10 words in the unigram frequency\n",
    "top_30_uni[:10]"
   ]
  },
  {
   "cell_type": "code",
   "execution_count": 22,
   "metadata": {
    "id": "aV7kD7w8JrF8"
   },
   "outputs": [
    {
     "data": {
      "text/plain": [
       "[('credit card', 12842),\n",
       " ('xxxx xxxx', 5029),\n",
       " ('credit report', 3927),\n",
       " ('customer service', 3058),\n",
       " ('account chase', 2805),\n",
       " ('chase credit', 2783),\n",
       " ('chase account', 2523),\n",
       " ('bank account', 2392),\n",
       " ('check account', 2245),\n",
       " ('account account', 2077),\n",
       " ('chase bank', 2062),\n",
       " ('debit card', 1965),\n",
       " ('checking account', 1847),\n",
       " ('chase card', 1727),\n",
       " ('credit score', 1707),\n",
       " ('account xxxx', 1687),\n",
       " ('phone call', 1650),\n",
       " ('number xxxx', 1641),\n",
       " ('xxxx credit', 1620),\n",
       " ('card account', 1608),\n",
       " ('xxxx chase', 1601),\n",
       " ('card chase', 1481),\n",
       " ('xxxx account', 1413),\n",
       " ('account credit', 1388),\n",
       " ('chase xxxx', 1315),\n",
       " ('interest rate', 1288),\n",
       " ('business day', 1253),\n",
       " ('money account', 1252),\n",
       " ('account bank', 1243),\n",
       " ('phone number', 1240)]"
      ]
     },
     "execution_count": 22,
     "metadata": {},
     "output_type": "execute_result"
    }
   ],
   "source": [
    "#Write your code here to find the top 30 bigram frequency among the complaints in the cleaned datafram(df_clean).\n",
    "top_30_bi = get_top_n_grams_df(df_clean, 'Complaint_clean',2)\n",
    "top_30_bi"
   ]
  },
  {
   "cell_type": "code",
   "execution_count": 23,
   "metadata": {
    "id": "NPnMNIpyJrF9"
   },
   "outputs": [
    {
     "data": {
      "text/plain": [
       "[('credit card', 12842),\n",
       " ('xxxx xxxx', 5029),\n",
       " ('credit report', 3927),\n",
       " ('customer service', 3058),\n",
       " ('account chase', 2805),\n",
       " ('chase credit', 2783),\n",
       " ('chase account', 2523),\n",
       " ('bank account', 2392),\n",
       " ('check account', 2245),\n",
       " ('account account', 2077)]"
      ]
     },
     "execution_count": 23,
     "metadata": {},
     "output_type": "execute_result"
    }
   ],
   "source": [
    "#Print the top 10 words in the bigram frequency\n",
    "top_30_bi[:10]"
   ]
  },
  {
   "cell_type": "code",
   "execution_count": 24,
   "metadata": {
    "id": "Xkh7vtbtJrF-"
   },
   "outputs": [
    {
     "data": {
      "text/plain": [
       "[('chase credit card', 1881),\n",
       " ('credit card account', 1066),\n",
       " ('credit card company', 981),\n",
       " ('xxxx credit card', 786),\n",
       " ('xxxx xxxx xxxx', 784),\n",
       " ('credit card chase', 683),\n",
       " ('inquiry credit report', 488),\n",
       " ('credit card credit', 478),\n",
       " ('credit card xxxx', 398),\n",
       " ('account credit card', 395),\n",
       " ('chase customer service', 385),\n",
       " ('credit reporting agency', 382),\n",
       " ('charge credit card', 372),\n",
       " ('chase checking account', 371),\n",
       " ('card credit card', 358),\n",
       " ('credit report credit', 347),\n",
       " ('customer service representative', 339),\n",
       " ('credit reporting act', 338),\n",
       " ('credit card payment', 293),\n",
       " ('chase bank account', 278),\n",
       " ('credit card charge', 269),\n",
       " ('account number xxxx', 264),\n",
       " ('account credit report', 258),\n",
       " ('bank credit card', 256),\n",
       " ('chase card service', 255),\n",
       " ('chase auto finance', 253),\n",
       " ('victim identity theft', 251),\n",
       " ('account chase account', 250),\n",
       " ('credit card balance', 250),\n",
       " ('credit card card', 238)]"
      ]
     },
     "execution_count": 24,
     "metadata": {},
     "output_type": "execute_result"
    }
   ],
   "source": [
    "#Write your code here to find the top 30 trigram frequency among the complaints in the cleaned datafram(df_clean).\n",
    "top_30_tri = get_top_n_grams_df(df_clean, 'Complaint_clean',3)\n",
    "top_30_tri"
   ]
  },
  {
   "cell_type": "code",
   "execution_count": 25,
   "metadata": {
    "id": "REcVxNfvJrF-"
   },
   "outputs": [
    {
     "data": {
      "text/plain": [
       "[('chase credit card', 1881),\n",
       " ('credit card account', 1066),\n",
       " ('credit card company', 981),\n",
       " ('xxxx credit card', 786),\n",
       " ('xxxx xxxx xxxx', 784),\n",
       " ('credit card chase', 683),\n",
       " ('inquiry credit report', 488),\n",
       " ('credit card credit', 478),\n",
       " ('credit card xxxx', 398),\n",
       " ('account credit card', 395)]"
      ]
     },
     "execution_count": 25,
     "metadata": {},
     "output_type": "execute_result"
    }
   ],
   "source": [
    "#Print the top 10 words in the trigram frequency\n",
    "top_30_tri[:10]"
   ]
  },
  {
   "cell_type": "markdown",
   "metadata": {
    "id": "yUXzFji0JrF_"
   },
   "source": [
    "## The personal details of customer has been masked in the dataset with xxxx. Let's remove the masked text as this will be of no use for our analysis"
   ]
  },
  {
   "cell_type": "code",
   "execution_count": 26,
   "metadata": {
    "id": "wKda-a_IJrF_"
   },
   "outputs": [],
   "source": [
    "df_clean['Complaint_clean'] = df_clean['Complaint_clean'].str.replace('xxxx','')"
   ]
  },
  {
   "cell_type": "code",
   "execution_count": 27,
   "metadata": {
    "id": "9UIFk8fQJrF_"
   },
   "outputs": [
    {
     "data": {
      "text/html": [
       "<div>\n",
       "<style scoped>\n",
       "    .dataframe tbody tr th:only-of-type {\n",
       "        vertical-align: middle;\n",
       "    }\n",
       "\n",
       "    .dataframe tbody tr th {\n",
       "        vertical-align: top;\n",
       "    }\n",
       "\n",
       "    .dataframe thead th {\n",
       "        text-align: right;\n",
       "    }\n",
       "</style>\n",
       "<table border=\"1\" class=\"dataframe\">\n",
       "  <thead>\n",
       "    <tr style=\"text-align: right;\">\n",
       "      <th></th>\n",
       "      <th>complaints</th>\n",
       "      <th>lemmatized_complaints</th>\n",
       "      <th>complaint_POS_removed</th>\n",
       "      <th>Complaint_clean</th>\n",
       "    </tr>\n",
       "  </thead>\n",
       "  <tbody>\n",
       "    <tr>\n",
       "      <th>0</th>\n",
       "      <td>Good morning my name is XXXX XXXX and I appreciate it if you could help me put a stop to Chase Bank cardmember services. \\nIn 2018 I wrote to Chase asking for debt verification and what they sent me a statement which is not acceptable. I am asking the bank to validate the debt. Instead I been receiving mail every month from them attempting to collect a debt. \\nI have a right to know this information as a consumer. \\n\\nChase account # XXXX XXXX XXXX XXXX Thanks in advance for your help.</td>\n",
       "      <td>good morning my name be xxxx xxxx and I appreciate it if you could help I put a stop to chase bank cardmember service \\n in   I write to chase ask for debt verification and what they send I a statement which be not acceptable I be ask the bank to validate the debt instead I been receive mail every month from they attempt to collect a debt \\n I have a right to know this information as a consumer \\n\\n chase account   xxxx xxxx xxxx xxxx thank in advance for your help</td>\n",
       "      <td>morning name stop bank service ask debt verification statement bank debt mail month debt right information consumer chase account xxxx advance help</td>\n",
       "      <td>morning name stop bank service ask debt verification statement bank debt mail month debt right information consumer chase account  advance help</td>\n",
       "    </tr>\n",
       "    <tr>\n",
       "      <th>1</th>\n",
       "      <td>I upgraded my XXXX XXXX card in XX/XX/2018 and was told by the agent who did the upgrade my anniversary date would not change. It turned the agent was giving me the wrong information in order to upgrade the account. XXXX   changed my anniversary date from XX/XX/XXXX to XX/XX/XXXX without my consent! XXXX has the recording of the agent who was misled me.</td>\n",
       "      <td>I upgrade my xxxx xxxx card in   and be tell by the agent who do the upgrade my anniversary date would not change it turn the agent be give I the wrong information in order to upgrade the account xxxx    change my anniversary date from xxxxxxxx to xxxxxxxx without my consent xxxx have the recording of the agent who be mislead I</td>\n",
       "      <td>xxxx card agent anniversary date agent information order account xxxx anniversary date consent recording agent</td>\n",
       "      <td>card agent anniversary date agent information order account  anniversary date consent recording agent</td>\n",
       "    </tr>\n",
       "    <tr>\n",
       "      <th>2</th>\n",
       "      <td>Chase Card was reported on XX/XX/2019. However, fraudulent application have been submitted my identity without my consent to fraudulently obtain services. Do not extend credit without verifying the identity of the applicant.</td>\n",
       "      <td>chase card be report on   however fraudulent application have be submit my identity without my consent to fraudulently obtain service do not extend credit without verify the identity of the applicant</td>\n",
       "      <td>chase card report application identity consent service credit identity applicant</td>\n",
       "      <td>chase card report application identity consent service credit identity applicant</td>\n",
       "    </tr>\n",
       "    <tr>\n",
       "      <th>3</th>\n",
       "      <td>On XX/XX/2018, while trying to book a XXXX  XXXX  ticket, I came across an offer for {$300.00} to be applied towards the ticket if I applied for a rewards card. I put in my information for the offer and within less than a minute, was notified via the screen that a decision could not be made. I immediately contacted XXXX and was referred to Chase Bank. I then immediately contacted Chase bank within no more than 10minutes of getting the notification on the screen and I was told by the Chase re...</td>\n",
       "      <td>on   while try to book a xxxx   xxxx   ticket I come across an offer for   to be apply towards the ticket if I apply for a reward card I put in my information for the offer and within less than a minute be notify via the screen that a decision could not be make I immediately contact xxxx and be refer to chase bank I then immediately contact chase bank within no more than   of get the notification on the screen and I be tell by the chase representative I speak with that my application be deny...</td>\n",
       "      <td>xxxx xxxx ticket offer ticket reward card information offer minute screen decision xxxx refer bank chase bank notification screen representative application information xxxx credit offer account statement use ticket account application oblige application request application representative chase fact credit account name report credit report chase information credit report application error</td>\n",
       "      <td>ticket offer ticket reward card information offer minute screen decision  refer bank chase bank notification screen representative application information  credit offer account statement use ticket account application oblige application request application representative chase fact credit account name report credit report chase information credit report application error</td>\n",
       "    </tr>\n",
       "    <tr>\n",
       "      <th>4</th>\n",
       "      <td>my grand son give me check for {$1600.00} i deposit it into my chase account after fund clear my chase bank closed my account never paid me my money they said they need to speek with my grand son check was clear money was taking by my chase bank refuse to pay me my money my grand son called chase 2 times they told him i should call not him to verify the check owner he is out the country most the time  date happen XX/XX/2018 check number XXXX claim number is XXXX with chase</td>\n",
       "      <td>my grand son give I check for   I deposit it into my chase account after fund clear my chase bank close my account never pay I my money they say they need to speek with my grand son check be clear money be take by my chase bank refuse to pay I my money my grand son call chase   time they tell he I should call not he to verify the check owner he be out the country most the time   date happen   check number xxxx claim number be xxxx with chase</td>\n",
       "      <td>son chase account fund chase bank account money son check money chase bank money son chase time check owner country time date check number claim number xxxx chase</td>\n",
       "      <td>son chase account fund chase bank account money son check money chase bank money son chase time check owner country time date check number claim number  chase</td>\n",
       "    </tr>\n",
       "    <tr>\n",
       "      <th>...</th>\n",
       "      <td>...</td>\n",
       "      <td>...</td>\n",
       "      <td>...</td>\n",
       "      <td>...</td>\n",
       "    </tr>\n",
       "    <tr>\n",
       "      <th>21067</th>\n",
       "      <td>After being a Chase Card customer for well over a decade, was offered multiple solicitations for acquiring new credit cards with Chase - all with bonus airline miles and hotel points. Was approved for all ( 3 ) new cards with No annual fee for 1st year. After less than 2 months with payment always paid as agreed, Chase closed all my cards. One of my ( 3 ) approved new cards was never activated but was sent to me.\\n\\nChase has done harm to my credit, has charged me an annual fee even though t...</td>\n",
       "      <td>after be a chase card customer for well over a decade be offer multiple solicitation for acquire new credit card with chase   all with bonus airline mile and hotel point be approve for all     new card with no annual fee for   year after less than   month with payment always pay as agree chase close all my card one of my     approve new card be never activate but be send to I \\n\\n chase have do harm to my credit have charge I an annual fee even though they cancel my account fail to credit my...</td>\n",
       "      <td>chase card customer decade solicitation credit card chase bonus airline mile hotel point card fee year month payment chase card card chase harm credit fee account point airline hotel xxxx enrollment credit airline charge</td>\n",
       "      <td>chase card customer decade solicitation credit card chase bonus airline mile hotel point card fee year month payment chase card card chase harm credit fee account point airline hotel  enrollment credit airline charge</td>\n",
       "    </tr>\n",
       "    <tr>\n",
       "      <th>21068</th>\n",
       "      <td>On Wednesday, XX/XX/XXXX I called Chas, my XXXX XXXX Visa Credit Card provider, and asked how to make a claim under their purchase protection benefit. On XX/XX/XXXX, I purchased three high school textbooks for my XXXX year old daughter because she transferred to a new school. All three books were damaged when a water bottle in her backpack broke. The Chase representative assured me the textbooks would be covered and instructed me to file a claim at XXXX. I immediately went to the website and...</td>\n",
       "      <td>on wednesday xxxxxxxx I call chas my xxxx xxxx visa credit card provider and ask how to make a claim under their purchase protection benefit on xxxxxxxx I purchase three high school textbook for my xxxx year old daughter because she transfer to a new school all three book be damage when a water bottle in her backpack break the chase representative assure I the textbook would be cover and instruct I to file a claim at xxxx I immediately go to the website and file the claim include upload all ...</td>\n",
       "      <td>xxxx credit card provider claim purchase protection benefit xxxxxxxx school textbook xxxx year daughter school book damage water bottle backpack representative assure textbook claim website claim upload request paperwork copy credit card statement copy receipt evidence damage website book catagorie type item claim claim insurance provider information contact business day step process outline email claim submission representative claim examiner day day claim information information write emai...</td>\n",
       "      <td>credit card provider claim purchase protection benefit  school textbook  year daughter school book damage water bottle backpack representative assure textbook claim website claim upload request paperwork copy credit card statement copy receipt evidence damage website book catagorie type item claim claim insurance provider information contact business day step process outline email claim submission representative claim examiner day day claim information information write email adjuster adjus...</td>\n",
       "    </tr>\n",
       "    <tr>\n",
       "      <th>21069</th>\n",
       "      <td>I am not familiar with XXXX pay and did not understand the great risk this provides to consumers. I believed this to be safe as it was through my Chase bank app. I have been with Chase for almost 20 years and trust their mobile banking and now am sadly regretful. I am being told to deal with the merchant except the merchant has refused to answer my inquiries and now shut down communication. The website of the said merchant looks entirely legitamite and is even using the faces of highly succe...</td>\n",
       "      <td>I be not familiar with xxxx pay and do not understand the great risk this provide to consumer I believe this to be safe as it be through my chase bank app I have be with chase for almost   year and trust their mobile banking and now be sadly regretful I be be tell to deal with the merchant except the merchant have refuse to answer my inquiry and now shut down communication the website of the say merchant look entirely legitamite and be even use the face of highly successful brand with indivi...</td>\n",
       "      <td>xxxx risk consumer chase bank app chase year banking merchant merchant inquiry communication website merchant face brand link medium consent perform research phone number information merchant account title holder cycle fraud non fix voip use identity report report recourse matter protocol place issue app verbiage point app branch chase banking service degree entitlement customer service protection protocol chase back link xxxx tab place consumer risk service concern chase slight minimum risk...</td>\n",
       "      <td>risk consumer chase bank app chase year banking merchant merchant inquiry communication website merchant face brand link medium consent perform research phone number information merchant account title holder cycle fraud non fix voip use identity report report recourse matter protocol place issue app verbiage point app branch chase banking service degree entitlement customer service protection protocol chase back link  tab place consumer risk service concern chase slight minimum risk use  ba...</td>\n",
       "    </tr>\n",
       "    <tr>\n",
       "      <th>21070</th>\n",
       "      <td>I have had flawless credit for 30 yrs. I've had Chase credit cards, \" Chase Freedom '' specifically since XXXX with no problems ever. I've done many balance transfers in my life, so I have plenty of experience. I recently did a balance transfer with Chase Freedom for {$9000.00} ( did many with other Chase cards, but apparently not \" Freeedom '' ) When I got my first bill, my minimum payment was {$470.00}. I was SHOCKED. I immediately called on XX/XX/XXXX. The representative told me that the ...</td>\n",
       "      <td>I have have flawless credit for   yrs I ve have chase credit card   chase freedom   specifically since xxxx with no problem ever I ve do many balance transfer in my life so I have plenty of experience I recently do a balance transfer with chase freedom for    do many with other chase card but apparently not   freeedom    when I get my first bill my minimum payment be   I be shock I immediately call on xxxxxxxx the representative tell I that the min payment be so high bc they be make I pay th...</td>\n",
       "      <td>credit yrs chase credit card chase freedom problem balance transfer life plenty experience balance transfer chase freedom chase card freeedom bill payment shock xxxxxxxx representative min payment balance transfer fee front payment balance rate payment xxxxxxxx shock payment chase representative standard user agreement paperwork xxxxxxxx year everyone world card chase amt someone credit card kid bill chart payment percentage paperwork everyone term term payment transfer fee balance card paym...</td>\n",
       "      <td>credit yrs chase credit card chase freedom problem balance transfer life plenty experience balance transfer chase freedom chase card freeedom bill payment shock  representative min payment balance transfer fee front payment balance rate payment  shock payment chase representative standard user agreement paperwork  year everyone world card chase amt someone credit card kid bill chart payment percentage paperwork everyone term term payment transfer fee balance card payment chase slate card min...</td>\n",
       "    </tr>\n",
       "    <tr>\n",
       "      <th>21071</th>\n",
       "      <td>Roughly 10+ years ago I closed out my accounts with JP Morgan Chase Bank XXXX in order to close out an unsecured line of credit I had to pay it off. I did that to close out my account roughly {$500.00} payment when I closed out the accounts, and now I get this late payment that showed up on my credit report after 10+ years stating I owe close to {$900.00} dollars. I have never had any payment schedules or notifications in the 10+ years because I paid it off. Upon calling them I am told I nee...</td>\n",
       "      <td>roughly   year ago I close out my account with jp morgan chase bank xxxx in order to close out an unsecured line of credit I have to pay it off I do that to close out my account roughly   payment when I close out the account and now I get this late payment that show up on my credit report after   year state I owe close to   dollar I have never have any payment schedule or notification in the   year because I pay it off upon call they I be tell I need to show proof I pay it off I would like t...</td>\n",
       "      <td>year account order line credit account payment account payment credit report year state dollar payment schedule notification year call proof payment notification bank customer service charge line banking institution</td>\n",
       "      <td>year account order line credit account payment account payment credit report year state dollar payment schedule notification year call proof payment notification bank customer service charge line banking institution</td>\n",
       "    </tr>\n",
       "  </tbody>\n",
       "</table>\n",
       "<p>21072 rows × 4 columns</p>\n",
       "</div>"
      ],
      "text/plain": [
       "                                                                                                                                                                                                                                                                                                                                                                                                                                                                                                                complaints  \\\n",
       "0               Good morning my name is XXXX XXXX and I appreciate it if you could help me put a stop to Chase Bank cardmember services. \\nIn 2018 I wrote to Chase asking for debt verification and what they sent me a statement which is not acceptable. I am asking the bank to validate the debt. Instead I been receiving mail every month from them attempting to collect a debt. \\nI have a right to know this information as a consumer. \\n\\nChase account # XXXX XXXX XXXX XXXX Thanks in advance for your help.   \n",
       "1                                                                                                                                                      I upgraded my XXXX XXXX card in XX/XX/2018 and was told by the agent who did the upgrade my anniversary date would not change. It turned the agent was giving me the wrong information in order to upgrade the account. XXXX   changed my anniversary date from XX/XX/XXXX to XX/XX/XXXX without my consent! XXXX has the recording of the agent who was misled me.   \n",
       "2                                                                                                                                                                                                                                                                                         Chase Card was reported on XX/XX/2019. However, fraudulent application have been submitted my identity without my consent to fraudulently obtain services. Do not extend credit without verifying the identity of the applicant.   \n",
       "3      On XX/XX/2018, while trying to book a XXXX  XXXX  ticket, I came across an offer for {$300.00} to be applied towards the ticket if I applied for a rewards card. I put in my information for the offer and within less than a minute, was notified via the screen that a decision could not be made. I immediately contacted XXXX and was referred to Chase Bank. I then immediately contacted Chase bank within no more than 10minutes of getting the notification on the screen and I was told by the Chase re...   \n",
       "4                            my grand son give me check for {$1600.00} i deposit it into my chase account after fund clear my chase bank closed my account never paid me my money they said they need to speek with my grand son check was clear money was taking by my chase bank refuse to pay me my money my grand son called chase 2 times they told him i should call not him to verify the check owner he is out the country most the time  date happen XX/XX/2018 check number XXXX claim number is XXXX with chase   \n",
       "...                                                                                                                                                                                                                                                                                                                                                                                                                                                                                                                    ...   \n",
       "21067  After being a Chase Card customer for well over a decade, was offered multiple solicitations for acquiring new credit cards with Chase - all with bonus airline miles and hotel points. Was approved for all ( 3 ) new cards with No annual fee for 1st year. After less than 2 months with payment always paid as agreed, Chase closed all my cards. One of my ( 3 ) approved new cards was never activated but was sent to me.\\n\\nChase has done harm to my credit, has charged me an annual fee even though t...   \n",
       "21068  On Wednesday, XX/XX/XXXX I called Chas, my XXXX XXXX Visa Credit Card provider, and asked how to make a claim under their purchase protection benefit. On XX/XX/XXXX, I purchased three high school textbooks for my XXXX year old daughter because she transferred to a new school. All three books were damaged when a water bottle in her backpack broke. The Chase representative assured me the textbooks would be covered and instructed me to file a claim at XXXX. I immediately went to the website and...   \n",
       "21069  I am not familiar with XXXX pay and did not understand the great risk this provides to consumers. I believed this to be safe as it was through my Chase bank app. I have been with Chase for almost 20 years and trust their mobile banking and now am sadly regretful. I am being told to deal with the merchant except the merchant has refused to answer my inquiries and now shut down communication. The website of the said merchant looks entirely legitamite and is even using the faces of highly succe...   \n",
       "21070  I have had flawless credit for 30 yrs. I've had Chase credit cards, \" Chase Freedom '' specifically since XXXX with no problems ever. I've done many balance transfers in my life, so I have plenty of experience. I recently did a balance transfer with Chase Freedom for {$9000.00} ( did many with other Chase cards, but apparently not \" Freeedom '' ) When I got my first bill, my minimum payment was {$470.00}. I was SHOCKED. I immediately called on XX/XX/XXXX. The representative told me that the ...   \n",
       "21071  Roughly 10+ years ago I closed out my accounts with JP Morgan Chase Bank XXXX in order to close out an unsecured line of credit I had to pay it off. I did that to close out my account roughly {$500.00} payment when I closed out the accounts, and now I get this late payment that showed up on my credit report after 10+ years stating I owe close to {$900.00} dollars. I have never had any payment schedules or notifications in the 10+ years because I paid it off. Upon calling them I am told I nee...   \n",
       "\n",
       "                                                                                                                                                                                                                                                                                                                                                                                                                                                                                                     lemmatized_complaints  \\\n",
       "0                                    good morning my name be xxxx xxxx and I appreciate it if you could help I put a stop to chase bank cardmember service \\n in   I write to chase ask for debt verification and what they send I a statement which be not acceptable I be ask the bank to validate the debt instead I been receive mail every month from they attempt to collect a debt \\n I have a right to know this information as a consumer \\n\\n chase account   xxxx xxxx xxxx xxxx thank in advance for your help   \n",
       "1                                                                                                                                                                                I upgrade my xxxx xxxx card in   and be tell by the agent who do the upgrade my anniversary date would not change it turn the agent be give I the wrong information in order to upgrade the account xxxx    change my anniversary date from xxxxxxxx to xxxxxxxx without my consent xxxx have the recording of the agent who be mislead I   \n",
       "2                                                                                                                                                                                                                                                                                                                  chase card be report on   however fraudulent application have be submit my identity without my consent to fraudulently obtain service do not extend credit without verify the identity of the applicant   \n",
       "3      on   while try to book a xxxx   xxxx   ticket I come across an offer for   to be apply towards the ticket if I apply for a reward card I put in my information for the offer and within less than a minute be notify via the screen that a decision could not be make I immediately contact xxxx and be refer to chase bank I then immediately contact chase bank within no more than   of get the notification on the screen and I be tell by the chase representative I speak with that my application be deny...   \n",
       "4                                                            my grand son give I check for   I deposit it into my chase account after fund clear my chase bank close my account never pay I my money they say they need to speek with my grand son check be clear money be take by my chase bank refuse to pay I my money my grand son call chase   time they tell he I should call not he to verify the check owner he be out the country most the time   date happen   check number xxxx claim number be xxxx with chase   \n",
       "...                                                                                                                                                                                                                                                                                                                                                                                                                                                                                                                    ...   \n",
       "21067  after be a chase card customer for well over a decade be offer multiple solicitation for acquire new credit card with chase   all with bonus airline mile and hotel point be approve for all     new card with no annual fee for   year after less than   month with payment always pay as agree chase close all my card one of my     approve new card be never activate but be send to I \\n\\n chase have do harm to my credit have charge I an annual fee even though they cancel my account fail to credit my...   \n",
       "21068  on wednesday xxxxxxxx I call chas my xxxx xxxx visa credit card provider and ask how to make a claim under their purchase protection benefit on xxxxxxxx I purchase three high school textbook for my xxxx year old daughter because she transfer to a new school all three book be damage when a water bottle in her backpack break the chase representative assure I the textbook would be cover and instruct I to file a claim at xxxx I immediately go to the website and file the claim include upload all ...   \n",
       "21069  I be not familiar with xxxx pay and do not understand the great risk this provide to consumer I believe this to be safe as it be through my chase bank app I have be with chase for almost   year and trust their mobile banking and now be sadly regretful I be be tell to deal with the merchant except the merchant have refuse to answer my inquiry and now shut down communication the website of the say merchant look entirely legitamite and be even use the face of highly successful brand with indivi...   \n",
       "21070  I have have flawless credit for   yrs I ve have chase credit card   chase freedom   specifically since xxxx with no problem ever I ve do many balance transfer in my life so I have plenty of experience I recently do a balance transfer with chase freedom for    do many with other chase card but apparently not   freeedom    when I get my first bill my minimum payment be   I be shock I immediately call on xxxxxxxx the representative tell I that the min payment be so high bc they be make I pay th...   \n",
       "21071  roughly   year ago I close out my account with jp morgan chase bank xxxx in order to close out an unsecured line of credit I have to pay it off I do that to close out my account roughly   payment when I close out the account and now I get this late payment that show up on my credit report after   year state I owe close to   dollar I have never have any payment schedule or notification in the   year because I pay it off upon call they I be tell I need to show proof I pay it off I would like t...   \n",
       "\n",
       "                                                                                                                                                                                                                                                                                                                                                                                                                                                                                                     complaint_POS_removed  \\\n",
       "0                                                                                                                                                                                                                                                                                                                                                                      morning name stop bank service ask debt verification statement bank debt mail month debt right information consumer chase account xxxx advance help   \n",
       "1                                                                                                                                                                                                                                                                                                                                                                                                           xxxx card agent anniversary date agent information order account xxxx anniversary date consent recording agent   \n",
       "2                                                                                                                                                                                                                                                                                                                                                                                                                                         chase card report application identity consent service credit identity applicant   \n",
       "3                                                                                                                  xxxx xxxx ticket offer ticket reward card information offer minute screen decision xxxx refer bank chase bank notification screen representative application information xxxx credit offer account statement use ticket account application oblige application request application representative chase fact credit account name report credit report chase information credit report application error   \n",
       "4                                                                                                                                                                                                                                                                                                                                                       son chase account fund chase bank account money son check money chase bank money son chase time check owner country time date check number claim number xxxx chase   \n",
       "...                                                                                                                                                                                                                                                                                                                                                                                                                                                                                                                    ...   \n",
       "21067                                                                                                                                                                                                                                                                                         chase card customer decade solicitation credit card chase bonus airline mile hotel point card fee year month payment chase card card chase harm credit fee account point airline hotel xxxx enrollment credit airline charge   \n",
       "21068  xxxx credit card provider claim purchase protection benefit xxxxxxxx school textbook xxxx year daughter school book damage water bottle backpack representative assure textbook claim website claim upload request paperwork copy credit card statement copy receipt evidence damage website book catagorie type item claim claim insurance provider information contact business day step process outline email claim submission representative claim examiner day day claim information information write emai...   \n",
       "21069  xxxx risk consumer chase bank app chase year banking merchant merchant inquiry communication website merchant face brand link medium consent perform research phone number information merchant account title holder cycle fraud non fix voip use identity report report recourse matter protocol place issue app verbiage point app branch chase banking service degree entitlement customer service protection protocol chase back link xxxx tab place consumer risk service concern chase slight minimum risk...   \n",
       "21070  credit yrs chase credit card chase freedom problem balance transfer life plenty experience balance transfer chase freedom chase card freeedom bill payment shock xxxxxxxx representative min payment balance transfer fee front payment balance rate payment xxxxxxxx shock payment chase representative standard user agreement paperwork xxxxxxxx year everyone world card chase amt someone credit card kid bill chart payment percentage paperwork everyone term term payment transfer fee balance card paym...   \n",
       "21071                                                                                                                                                                                                                                                                                              year account order line credit account payment account payment credit report year state dollar payment schedule notification year call proof payment notification bank customer service charge line banking institution   \n",
       "\n",
       "                                                                                                                                                                                                                                                                                                                                                                                                                                                                                                           Complaint_clean  \n",
       "0                                                                                                                                                                                                                                                                                                                                                                          morning name stop bank service ask debt verification statement bank debt mail month debt right information consumer chase account  advance help  \n",
       "1                                                                                                                                                                                                                                                                                                                                                                                                                    card agent anniversary date agent information order account  anniversary date consent recording agent  \n",
       "2                                                                                                                                                                                                                                                                                                                                                                                                                                         chase card report application identity consent service credit identity applicant  \n",
       "3                                                                                                                                    ticket offer ticket reward card information offer minute screen decision  refer bank chase bank notification screen representative application information  credit offer account statement use ticket account application oblige application request application representative chase fact credit account name report credit report chase information credit report application error  \n",
       "4                                                                                                                                                                                                                                                                                                                                                           son chase account fund chase bank account money son check money chase bank money son chase time check owner country time date check number claim number  chase  \n",
       "...                                                                                                                                                                                                                                                                                                                                                                                                                                                                                                                    ...  \n",
       "21067                                                                                                                                                                                                                                                                                             chase card customer decade solicitation credit card chase bonus airline mile hotel point card fee year month payment chase card card chase harm credit fee account point airline hotel  enrollment credit airline charge  \n",
       "21068   credit card provider claim purchase protection benefit  school textbook  year daughter school book damage water bottle backpack representative assure textbook claim website claim upload request paperwork copy credit card statement copy receipt evidence damage website book catagorie type item claim claim insurance provider information contact business day step process outline email claim submission representative claim examiner day day claim information information write email adjuster adjus...  \n",
       "21069   risk consumer chase bank app chase year banking merchant merchant inquiry communication website merchant face brand link medium consent perform research phone number information merchant account title holder cycle fraud non fix voip use identity report report recourse matter protocol place issue app verbiage point app branch chase banking service degree entitlement customer service protection protocol chase back link  tab place consumer risk service concern chase slight minimum risk use  ba...  \n",
       "21070  credit yrs chase credit card chase freedom problem balance transfer life plenty experience balance transfer chase freedom chase card freeedom bill payment shock  representative min payment balance transfer fee front payment balance rate payment  shock payment chase representative standard user agreement paperwork  year everyone world card chase amt someone credit card kid bill chart payment percentage paperwork everyone term term payment transfer fee balance card payment chase slate card min...  \n",
       "21071                                                                                                                                                                                                                                                                                              year account order line credit account payment account payment credit report year state dollar payment schedule notification year call proof payment notification bank customer service charge line banking institution  \n",
       "\n",
       "[21072 rows x 4 columns]"
      ]
     },
     "execution_count": 27,
     "metadata": {},
     "output_type": "execute_result"
    }
   ],
   "source": [
    "#All masked texts has been removed\n",
    "df_clean"
   ]
  },
  {
   "cell_type": "markdown",
   "metadata": {
    "id": "k-I0k0QtJrGA"
   },
   "source": [
    "## Feature Extraction\n",
    "Convert the raw texts to a matrix of TF-IDF features\n",
    "\n",
    "**max_df** is used for removing terms that appear too frequently, also known as \"corpus-specific stop words\"\n",
    "max_df = 0.95 means \"ignore terms that appear in more than 95% of the complaints\"\n",
    "\n",
    "**min_df** is used for removing terms that appear too infrequently\n",
    "min_df = 2 means \"ignore terms that appear in less than 2 complaints\""
   ]
  },
  {
   "cell_type": "code",
   "execution_count": 32,
   "metadata": {
    "id": "Y8fGwaCPJrGA"
   },
   "outputs": [],
   "source": [
    "#Write your code here to initialise the TfidfVectorizer\n",
    "tf_idf_vectorizer = TfidfVectorizer(max_df = 0.95, min_df = 2, stop_words = \"english\")\n"
   ]
  },
  {
   "cell_type": "markdown",
   "metadata": {
    "id": "yYzD85nTJrGA"
   },
   "source": [
    "#### Create a document term matrix using fit_transform\n",
    "\n",
    "The contents of a document term matrix are tuples of (complaint_id,token_id) tf-idf score:\n",
    "The tuples that are not there have a tf-idf score of 0"
   ]
  },
  {
   "cell_type": "code",
   "execution_count": 34,
   "metadata": {
    "id": "ffzdDpp_JrGB"
   },
   "outputs": [],
   "source": [
    "#Write your code here to create the Document Term Matrix by transforming the complaints column present in df_clean.\n",
    "doc_term_matrix= tf_idf_vectorizer.fit_transform(df_clean['Complaint_clean'])"
   ]
  },
  {
   "cell_type": "markdown",
   "metadata": {
    "id": "7Q9lwvNEJrGB"
   },
   "source": [
    "## Topic Modelling using NMF\n",
    "\n",
    "Non-Negative Matrix Factorization (NMF) is an unsupervised technique so there are no labeling of topics that the model will be trained on. The way it works is that, NMF decomposes (or factorizes) high-dimensional vectors into a lower-dimensional representation. These lower-dimensional vectors are non-negative which also means their coefficients are non-negative.\n",
    "\n",
    "In this task you have to perform the following:\n",
    "\n",
    "* Find the best number of clusters\n",
    "* Apply the best number to create word clusters\n",
    "* Inspect & validate the correction of each cluster wrt the complaints\n",
    "* Correct the labels if needed\n",
    "* Map the clusters to topics/cluster names"
   ]
  },
  {
   "cell_type": "code",
   "execution_count": 30,
   "metadata": {
    "id": "amLT4omWJrGB"
   },
   "outputs": [],
   "source": [
    "from sklearn.decomposition import NMF"
   ]
  },
  {
   "cell_type": "markdown",
   "metadata": {
    "id": "0wYR1xUTJrGD"
   },
   "source": [
    "## Manual Topic Modeling\n",
    "You need to do take the trial & error approach to find the best num of topics for your NMF model.\n",
    "\n",
    "The only parameter that is required is the number of components i.e. the number of topics we want. This is the most crucial step in the whole topic modeling process and will greatly affect how good your final topics are."
   ]
  },
  {
   "cell_type": "code",
   "execution_count": 31,
   "metadata": {
    "id": "sgd2A6bhJrGD"
   },
   "outputs": [
    {
     "ename": "SyntaxError",
     "evalue": "invalid syntax (3388394850.py, line 2)",
     "output_type": "error",
     "traceback": [
      "\u001b[1;36m  Cell \u001b[1;32mIn[31], line 2\u001b[1;36m\u001b[0m\n\u001b[1;33m    num_topics = #write the value you want to test out\u001b[0m\n\u001b[1;37m                 ^\u001b[0m\n\u001b[1;31mSyntaxError\u001b[0m\u001b[1;31m:\u001b[0m invalid syntax\n"
     ]
    }
   ],
   "source": [
    "#Load your nmf_model with the n_components i.e 5\n",
    "num_topics = #write the value you want to test out\n",
    "\n",
    "#keep the random_state =40\n",
    "nmf_model = #write your code here"
   ]
  },
  {
   "cell_type": "code",
   "execution_count": null,
   "metadata": {
    "id": "VPMDYbt_JrGE"
   },
   "outputs": [],
   "source": [
    "nmf_model.fit(dtm)\n",
    "len(tfidf.get_feature_names())"
   ]
  },
  {
   "cell_type": "code",
   "execution_count": null,
   "metadata": {
    "id": "16kRfat5JrGE"
   },
   "outputs": [],
   "source": [
    "#Print the Top15 words for each of the topics\n"
   ]
  },
  {
   "cell_type": "code",
   "execution_count": null,
   "metadata": {
    "id": "0OIT7LmFJrGF"
   },
   "outputs": [],
   "source": [
    "#Create the best topic for each complaint in terms of integer value 0,1,2,3 & 4\n",
    "\n"
   ]
  },
  {
   "cell_type": "code",
   "execution_count": null,
   "metadata": {
    "id": "peyYv-ORJrGF"
   },
   "outputs": [],
   "source": [
    "#Assign the best topic to each of the cmplaints in Topic Column\n",
    "\n",
    "df_clean['Topic'] = #write your code to assign topics to each rows."
   ]
  },
  {
   "cell_type": "code",
   "execution_count": null,
   "metadata": {
    "id": "fLh_Gf3nJrGF"
   },
   "outputs": [],
   "source": [
    "df_clean.head()"
   ]
  },
  {
   "cell_type": "code",
   "execution_count": null,
   "metadata": {
    "id": "aQKpufSPJrGG"
   },
   "outputs": [],
   "source": [
    "#Print the first 5 Complaint for each of the Topics\n",
    "df_clean=df_clean.groupby('Topic').head(5)\n",
    "df_clean.sort_values('Topic')"
   ]
  },
  {
   "cell_type": "markdown",
   "metadata": {
    "id": "piyLxzj6v07j"
   },
   "source": [
    "#### After evaluating the mapping, if the topics assigned are correct then assign these names to the relevant topic:\n",
    "* Bank Account services\n",
    "* Credit card or prepaid card\n",
    "* Theft/Dispute Reporting\n",
    "* Mortgage/Loan\n",
    "* Others"
   ]
  },
  {
   "cell_type": "code",
   "execution_count": null,
   "metadata": {
    "id": "TWpwDG4RJrGG"
   },
   "outputs": [],
   "source": [
    "#Create the dictionary of Topic names and Topics\n",
    "\n",
    "Topic_names = {   }\n",
    "#Replace Topics with Topic Names\n",
    "df_clean['Topic'] = df_clean['Topic'].map(Topic_names)"
   ]
  },
  {
   "cell_type": "code",
   "execution_count": null,
   "metadata": {
    "id": "-2ULY5K6JrGG"
   },
   "outputs": [],
   "source": [
    "df_clean"
   ]
  },
  {
   "cell_type": "markdown",
   "metadata": {
    "id": "7Mu0QBOcJrGH"
   },
   "source": [
    "## Supervised model to predict any new complaints to the relevant Topics.\n",
    "\n",
    "You have now build the model to create the topics for each complaints.Now in the below section you will use them to classify any new complaints.\n",
    "\n",
    "Since you will be using supervised learning technique we have to convert the topic names to numbers(numpy arrays only understand numbers)"
   ]
  },
  {
   "cell_type": "code",
   "execution_count": null,
   "metadata": {
    "id": "_U8J3J8wJrGH"
   },
   "outputs": [],
   "source": [
    "#Create the dictionary again of Topic names and Topics\n",
    "\n",
    "Topic_names = {   }\n",
    "#Replace Topics with Topic Names\n",
    "df_clean['Topic'] = df_clean['Topic'].map(Topic_names)"
   ]
  },
  {
   "cell_type": "code",
   "execution_count": null,
   "metadata": {
    "id": "BWIgJUkQJrGH"
   },
   "outputs": [],
   "source": [
    "df_clean"
   ]
  },
  {
   "cell_type": "code",
   "execution_count": null,
   "metadata": {
    "id": "Xx-FrbkWJrGH"
   },
   "outputs": [],
   "source": [
    "#Keep the columns\"complaint_what_happened\" & \"Topic\" only in the new dataframe --> training_data\n",
    "training_data="
   ]
  },
  {
   "cell_type": "code",
   "execution_count": null,
   "metadata": {
    "id": "lVg2pa12JrGI"
   },
   "outputs": [],
   "source": [
    "training_data"
   ]
  },
  {
   "cell_type": "markdown",
   "metadata": {
    "id": "280Vbqk-7a8M"
   },
   "source": [
    "####Apply the supervised models on the training data created. In this process, you have to do the following:\n",
    "* Create the vector counts using Count Vectoriser\n",
    "* Transform the word vecotr to tf-idf\n",
    "* Create the train & test data using the train_test_split on the tf-idf & topics\n"
   ]
  },
  {
   "cell_type": "code",
   "execution_count": null,
   "metadata": {
    "id": "oUlQpgkzJrGI"
   },
   "outputs": [],
   "source": [
    "\n",
    "#Write your code to get the Vector count\n",
    "\n",
    "\n",
    "#Write your code here to transform the word vector to tf-idf"
   ]
  },
  {
   "cell_type": "markdown",
   "metadata": {
    "id": "uMU3vj6w-wqL"
   },
   "source": [
    "You have to try atleast 3 models on the train & test data from these options:\n",
    "* Logistic regression\n",
    "* Decision Tree\n",
    "* Random Forest\n",
    "* Naive Bayes (optional)\n",
    "\n",
    "**Using the required evaluation metrics judge the tried models and select the ones performing the best**"
   ]
  },
  {
   "cell_type": "code",
   "execution_count": null,
   "metadata": {
    "id": "udLHpPsZJrGI"
   },
   "outputs": [],
   "source": [
    "# Write your code here to build any 3 models and evaluate them using the required metrics\n",
    "\n",
    "\n",
    "\n"
   ]
  },
  {
   "cell_type": "code",
   "execution_count": null,
   "metadata": {
    "id": "N2OznsObJrGP"
   },
   "outputs": [],
   "source": []
  }
 ],
 "metadata": {
  "colab": {
   "collapsed_sections": [
    "_7Un1AElJrF2",
    "T9jD_6SeJrF3",
    "5DfCSbbmJrF4",
    "yUXzFji0JrF_",
    "k-I0k0QtJrGA",
    "7Q9lwvNEJrGB",
    "0wYR1xUTJrGD",
    "piyLxzj6v07j",
    "7Mu0QBOcJrGH"
   ],
   "provenance": []
  },
  "kernelspec": {
   "display_name": "Python 3 (ipykernel)",
   "language": "python",
   "name": "python3"
  },
  "language_info": {
   "codemirror_mode": {
    "name": "ipython",
    "version": 3
   },
   "file_extension": ".py",
   "mimetype": "text/x-python",
   "name": "python",
   "nbconvert_exporter": "python",
   "pygments_lexer": "ipython3",
   "version": "3.10.9"
  }
 },
 "nbformat": 4,
 "nbformat_minor": 1
}
